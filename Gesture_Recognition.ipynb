{
 "cells": [
  {
   "cell_type": "markdown",
   "metadata": {
    "id": "xgageSzSAAPY"
   },
   "source": [
    "# Gesture Recognition\n",
    "![1607_2716_0 (1)](https://user-images.githubusercontent.com/93203186/172011187-70099885-05f6-4e4a-9dbe-e4db30471f54.jpg)\n",
    "\n",
    "\n",
    "> Imagine working as a data scientist at a home electronics company which manufactures state of the art smart televisions. You want to develop a cool feature in the smart-TV that can recognise five different gestures performed by the user which will help users control the TV without using a remote. \n",
    "> The gestures are continuously monitored by the webcam mounted on the TV. Each gesture corresponds to a specific command:\n",
    "\n",
    "- Thumbs up:  Increase the volume\n",
    "- Thumbs down: Decrease the volume\n",
    "- Left swipe: 'Jump' backwards 10 seconds\n",
    "- Right swipe: 'Jump' forward 10 seconds  \n",
    "- Stop: Pause the movie\n",
    "\n",
    "## Understanding the Dataset\n",
    "> The training data consists of a few hundred videos categorised into one of the five classes. Each video (typically 2-3 seconds long) is divided into a sequence of 30 frames(images). These videos have been recorded by various people performing one of the five gestures in front of a webcam - similar to what the smart TV will use. \n",
    "\n",
    "> The data is in a zip file. The zip file contains a 'train' and a 'val' folder with two CSV files for the two folders. These folders are in turn divided into subfolders where each subfolder represents a video of a particular gesture. Each subfolder, i.e. a video, contains 30 frames (or images). Note that all images in a particular video subfolder have the same dimensions but different videos may have different dimensions. Specifically, videos have two types of dimensions - either 360x360 or 120x160 (depending on the webcam used to record the videos). Hence, you will need to do some pre-processing to standardise the videos. \n",
    "\n",
    "> Each row of the CSV file represents one video and contains three main pieces of information - the name of the subfolder containing the 30 images of the video, the name of the gesture and the numeric label (between 0-4) of the video.\n",
    "\n",
    "> Here task is to train a model on the 'train' folder which performs well on the 'val' folder as well (as usually done in ML projects). We have withheld the test folder for evaluation purposes - your final model's performance will be tested on the 'test' set.\n",
    " \n",
    " ## Goals of this Project\n",
    "\n",
    "> __Generator:__  The generator should be able to take a batch of videos as input without any error. Steps like cropping, resizing and normalization should be performed successfully.\n",
    "\n",
    "> __Model:__ Develop a model that is able to train without any errors which will be judged on the total number of parameters (as the inference(prediction) time should be less) and the accuracy achieved.\n",
    "\n",
    "> __Write up:__ This should contain the detailed procedure followed in choosing the final model. The write up should start with the reason for choosing the base model, then highlight the reasons and metrics taken into consideration to modify and experiment to arrive at the final model. "
   ]
  },
  {
   "cell_type": "markdown",
   "metadata": {},
   "source": [
    "### Attention\n",
    "\n",
    "- Few models could result in Resourse exhuasted error (OOM error), in this situation kindly reset kernel and restart same notebook followed by running required cell of respective model."
   ]
  },
  {
   "cell_type": "code",
   "execution_count": 1,
   "metadata": {
    "id": "HV1B24qwAAPh"
   },
   "outputs": [],
   "source": [
    "# Import necessary libraries\n",
    "import numpy as np\n",
    "import os\n",
    "from skimage.transform import resize\n",
    "from imageio import imread\n",
    "import datetime\n",
    "\n",
    "import warnings\n",
    "warnings.filterwarnings(\"ignore\")\n",
    "import abc\n",
    "from sys import getsizeof"
   ]
  },
  {
   "cell_type": "code",
   "execution_count": 2,
   "metadata": {
    "id": "AqvzO1kXAAPk"
   },
   "outputs": [],
   "source": [
    "# We set the random seed so that the results don't vary drastically.\n",
    "\n",
    "np.random.seed(30)\n",
    "import random as rn\n",
    "rn.seed(30)\n",
    "from keras import backend as K\n",
    "import tensorflow as tf\n",
    "tf.random.set_seed(30)"
   ]
  },
  {
   "cell_type": "markdown",
   "metadata": {
    "id": "S6on9TJ1AAPl"
   },
   "source": [
    "## Loading Dataset"
   ]
  },
  {
   "cell_type": "markdown",
   "metadata": {
    "id": "QP1twuOdAnTy"
   },
   "source": [
    "# Creating Pipline from gmail drive\n",
    "from google.colab import drive\n",
    "drive.mount('/content/drive')"
   ]
  },
  {
   "cell_type": "markdown",
   "metadata": {
    "id": "ieEq_sStnbSQ"
   },
   "source": [
    "In this cell below, we read the folder names for training and validation. We also set the `batch_size` here."
   ]
  },
  {
   "cell_type": "code",
   "execution_count": 3,
   "metadata": {
    "id": "xCmQ4vKvAAPm"
   },
   "outputs": [],
   "source": [
    "train_doc = np.random.permutation(open('/datasets/Project_data/train.csv').readlines())\n",
    "val_doc = np.random.permutation(open('/datasets/Project_data/val.csv').readlines())\n",
    "batch_size = 40"
   ]
  },
  {
   "cell_type": "markdown",
   "metadata": {
    "id": "qcV1ThlhAAPn"
   },
   "source": [
    "## Generator\n",
    "\n",
    "This is one of the most important part of the code. The overall structure of the generator has been given here. In the generator, we are going to preprocess the images as you have images of 2 different dimensions as well as create a batch of video frames. (We can experiment with `img_idx`, `y`,`z` and normalization until we can get high accuracy)"
   ]
  },
  {
   "cell_type": "code",
   "execution_count": 4,
   "metadata": {
    "id": "RhiT_22XZ8UG"
   },
   "outputs": [],
   "source": [
    "# coding to crop and Resize of photosimages\n",
    "def cropAndResize(image,HEIGHT_DIMENSION,WIDTH_DIMENSION):\n",
    "    #crop the images and resize them.  \n",
    "    #Note that the images are of 2 different shape& the conv3D will throw error if the inputs in a batch have different shapes.\n",
    "    # CROPPING (making aspect ratio same)\n",
    "    if abs(image.shape[0]-image.shape[1])%2==0 and image.shape[0]!=image.shape[1]:\n",
    "        dimension_diff=abs(image.shape[0]-image.shape[1])\n",
    "        cropping_ratio=dimension_diff//2\n",
    "        if image.shape[0]>image.shape[1]:\n",
    "            image=image[cropping_ratio:image.shape[0]-cropping_ratio,:,:]\n",
    "        elif image.shape[0]<image.shape[1]:\n",
    "            image=image[:,cropping_ratio:image.shape[1]-cropping_ratio,:]\n",
    "                    \n",
    "    # RESIZING\n",
    "    if image.shape[0]>120 or image.shape[1]>120:\n",
    "        image=resize(image, (120, 120))\n",
    "    return image"
   ]
  },
  {
   "cell_type": "code",
   "execution_count": 6,
   "metadata": {
    "id": "n1DsomEkAAPq"
   },
   "outputs": [],
   "source": [
    "# Defininng Generator function\n",
    "def generator(source_path, folder_list, batch_size):\n",
    "    print( 'Source path = ', source_path, '; batch size =', batch_size)\n",
    "    img_idx = 7,9,10,11,12,13,14,15,16,17,18,19,20,21,22,24 #create a list of image no's you want to use for a particular video\n",
    "    while True:\n",
    "        t = np.random.permutation(folder_list)\n",
    "        num_batches = len(t)//batch_size                 # calculate the number of batches\n",
    "        remaining_batch_size=len(t)%batch_size\n",
    "        for batch in range(num_batches):                 # we iterate over the number of batches\n",
    "            batch_data = np.zeros((batch_size,16,120,120,3)) # x is the no. of images you use for each video,(y,z) is the final size of the input images and 3 is the number of channels RGB\n",
    "            batch_labels = np.zeros((batch_size,5))      # batch_labels is the one hot representation of the output\n",
    "            for folder in range(batch_size):             # iterate over the batch_size\n",
    "                imgs = os.listdir(source_path+'/'+ t[folder + (batch*batch_size)].split(';')[0]) # Read all the images in the folder\n",
    "                for idx,item in enumerate(img_idx):      # Iterate over the frames/images of a folder to read them in\n",
    "                    image = imread(source_path+'/'+ t[folder + (batch*batch_size)].strip().split(';')[0]+'/'+imgs[item]).astype(np.float32)\n",
    "                    image_resized = cropAndResize(image,120,120)                    \n",
    "                    batch_data[folder,idx,:,:,0] = (image_resized[:,:,0])/255         # Normalise and feed in the image\n",
    "                    batch_data[folder,idx,:,:,1] = (image_resized[:,:,1])/255         # Normalise and feed in the image\n",
    "                    batch_data[folder,idx,:,:,2] = (image_resized[:,:,2])/255         # Normalise and feed in the image\n",
    "                    \n",
    "                batch_labels[folder, int(t[folder + (batch*batch_size)].strip().split(';')[2])] = 1\n",
    "            yield batch_data, batch_labels                # you yield the batch_data and the batch_labels\n",
    "        for batch in range(num_batches,num_batches+1):    # iterate over the number of batches\n",
    "            batch_data = np.zeros((remaining_batch_size*2,16,120,120,3)) # x is the number of images you use for each video, (y,z) is the final size of the input images and 3 is the number of channels RGB\n",
    "            batch_labels = np.zeros((remaining_batch_size*2,5))       # batch_labels is the one hot representation of the output\n",
    "            for folder in range(remaining_batch_size):                # iterate over the batch_size\n",
    "                imgs = os.listdir(source_path+'/'+ t[folder + (batch*batch_size)].split(';')[0]) # read all the images in the folder\n",
    "                for idx,item in enumerate(img_idx): #  Iterate iver the frames/images of a folder to read them in\n",
    "                    image = imread(source_path+'/'+ t[folder + (batch*batch_size)].strip().split(';')[0]+'/'+imgs[item]).astype(np.float32)\n",
    "                    image_resized = cropAndResize(image,120,120)                    \n",
    "                    batch_data[folder,idx,:,:,0] = (image_resized[:,:,0])/255        #normalise and feed in the image\n",
    "                    batch_data[folder,idx,:,:,1] = (image_resized[:,:,1])/255        #normalise and feed in the image\n",
    "                    batch_data[folder,idx,:,:,2] = (image_resized[:,:,2])/255        #normalise and feed in the image\n",
    "                    \n",
    "                    # code for the remaining data points which are left after full batches\n",
    "                batch_labels[folder, int(t[folder + (batch*batch_size)].strip().split(';')[2])] = 1\n",
    "            yield batch_data, batch_labels"
   ]
  },
  {
   "cell_type": "code",
   "execution_count": 7,
   "metadata": {
    "id": "duB78bvpAAPs"
   },
   "outputs": [],
   "source": [
    "# Creating fuction for plotting results in graph\n",
    "from matplotlib import pyplot as plt\n",
    "def plot(history):\n",
    "    fig, axes = plt.subplots(nrows=1, ncols=2, figsize=(15,4))\n",
    "    axes[0].plot(history.history['loss'])   \n",
    "    axes[0].plot(history.history['val_loss'])\n",
    "    axes[0].legend(['loss','val_loss'])\n",
    "\n",
    "    axes[1].plot(history.history['categorical_accuracy'])   \n",
    "    axes[1].plot(history.history['val_categorical_accuracy'])\n",
    "    axes[1].legend(['categorical_accuracy','val_categorical_accuracy'])"
   ]
  },
  {
   "cell_type": "code",
   "execution_count": 8,
   "metadata": {
    "colab": {
     "base_uri": "https://localhost:8080/"
    },
    "id": "CNkgEzXNAAPt",
    "outputId": "bb4ab663-c69f-4efc-c82b-d2c1547b0cc6"
   },
   "outputs": [
    {
     "name": "stdout",
     "output_type": "stream",
     "text": [
      "Training sequences = 663\n",
      "Validation sequences = 100\n",
      "Epochs = 15\n"
     ]
    }
   ],
   "source": [
    "curr_dt_time = datetime.datetime.now()\n",
    "train_path = '/datasets/Project_data/train'\n",
    "val_path = '/datasets/Project_data/val'\n",
    "num_train_sequences = len(train_doc)\n",
    "print('Training sequences =', num_train_sequences)\n",
    "num_val_sequences = len(val_doc)\n",
    "print('Validation sequences =', num_val_sequences)\n",
    "num_epochs = 15              # choose the number of epochs\n",
    "print ('Epochs =', num_epochs)"
   ]
  },
  {
   "cell_type": "markdown",
   "metadata": {
    "id": "4WUnbIBqAAPu"
   },
   "source": [
    "## Model\n",
    "\n",
    "Design the network in such a way that the model is able to give good accuracy on the least number of parameters so that it can fit in the memory of the webcam."
   ]
  },
  {
   "cell_type": "code",
   "execution_count": 9,
   "metadata": {
    "id": "Kg5IRVosAAPu"
   },
   "outputs": [],
   "source": [
    "from keras.models import Sequential, Model\n",
    "from keras.layers import Dense, GRU, Flatten, TimeDistributed, Flatten, BatchNormalization, Activation,Dropout,GlobalAveragePooling3D,LSTM,GlobalAveragePooling2D\n",
    "from keras.layers.convolutional import Conv3D, MaxPooling3D,Conv2D,MaxPooling2D\n",
    "from keras.callbacks import ModelCheckpoint, ReduceLROnPlateau,EarlyStopping\n",
    "from keras import optimizers\n",
    "img_idx = 7,9,10,11,12,13,14,15,16,17,18,19,20,21,22,24\n",
    "input_shape = (len(img_idx), 120, 120, 3)\n",
    "np.random.seed(30)\n",
    "\n",
    "# These two steps are common for all 10 models. Make sure to run this cell before fitting any model after kernel reset\n",
    "\n",
    "# create the `train_generator` and the `val_generator` which is used in `.fit_generator`.\n",
    "\n",
    "train_generator = generator(train_path, train_doc, batch_size)\n",
    "val_generator = generator(val_path, val_doc, batch_size)\n",
    "\n",
    "#defining steps per epoch\n",
    "\n",
    "if (num_train_sequences%batch_size) == 0:\n",
    "    steps_per_epoch = int(num_train_sequences/batch_size)\n",
    "else:\n",
    "    steps_per_epoch = (num_train_sequences//batch_size) + 1\n",
    "\n",
    "if (num_val_sequences%batch_size) == 0:\n",
    "    validation_steps = int(num_val_sequences/batch_size)\n",
    "else:\n",
    "    validation_steps = (num_val_sequences//batch_size) + 1"
   ]
  },
  {
   "cell_type": "markdown",
   "metadata": {
    "id": "0xvZo9j0AAPv"
   },
   "source": [
    "### 1st Model : Simple Conv3D\n",
    "### with Batch size = 40, No's of epoch = 10"
   ]
  },
  {
   "cell_type": "code",
   "execution_count": 11,
   "metadata": {
    "id": "MtYgigrUAAPv",
    "outputId": "0e46f126-b889-4e0f-de61-94731332bc72"
   },
   "outputs": [
    {
     "name": "stderr",
     "output_type": "stream",
     "text": [
      "2022-06-15 06:37:17.370254: W tensorflow/core/common_runtime/gpu/gpu_bfc_allocator.cc:39] Overriding allow_growth setting because the TF_FORCE_GPU_ALLOW_GROWTH environment variable is set. Original config value was 0.\n",
      "2022-06-15 06:37:17.370317: I tensorflow/core/common_runtime/gpu/gpu_device.cc:1525] Created device /job:localhost/replica:0/task:0/device:GPU:0 with 14803 MB memory:  -> device: 0, name: Quadro RTX 5000, pci bus id: 0000:1c:00.0, compute capability: 7.5\n"
     ]
    }
   ],
   "source": [
    "model = Sequential()\n",
    "model.add(Conv3D(32, kernel_size=3, activation='relu', input_shape=input_shape))\n",
    "model.add(MaxPooling3D(pool_size=2))\n",
    "\n",
    "model.add(Conv3D(64, kernel_size=3, activation='relu'))\n",
    "model.add(MaxPooling3D(pool_size=2))\n",
    "\n",
    "model.add(Flatten())\n",
    "model.add(Dense(256, activation='relu'))\n",
    "model.add(Dense(5, activation='softmax'))"
   ]
  },
  {
   "cell_type": "markdown",
   "metadata": {
    "id": "apCFn4NmAAPw"
   },
   "source": [
    "1. In next  `train_generator` and the `val_generator` which is defined, as it has to be used in `.fit_generator`.\n",
    "2. The `steps_per_epoch` and `validation_steps` are used by `fit_generator` to decide the number of next() calls it need to make. These are also defined in cell below\n",
    "3. After the model creation in above cell, the next step is to `compile` the model followed by 1st and 2nd step. In the `summary` of the model, we'll see the total number of parameters to train.\n",
    "\n",
    "These steps are same for all the model."
   ]
  },
  {
   "cell_type": "code",
   "execution_count": 12,
   "metadata": {
    "colab": {
     "base_uri": "https://localhost:8080/"
    },
    "id": "9oH8iCvAKzsY",
    "outputId": "2559c670-3fc7-4b4d-ddb8-a793ebed52c5"
   },
   "outputs": [
    {
     "name": "stdout",
     "output_type": "stream",
     "text": [
      "Model: \"sequential\"\n",
      "_________________________________________________________________\n",
      " Layer (type)                Output Shape              Param #   \n",
      "=================================================================\n",
      " conv3d (Conv3D)             (None, 14, 118, 118, 32)  2624      \n",
      "                                                                 \n",
      " max_pooling3d (MaxPooling3D  (None, 7, 59, 59, 32)    0         \n",
      " )                                                               \n",
      "                                                                 \n",
      " conv3d_1 (Conv3D)           (None, 5, 57, 57, 64)     55360     \n",
      "                                                                 \n",
      " max_pooling3d_1 (MaxPooling  (None, 2, 28, 28, 64)    0         \n",
      " 3D)                                                             \n",
      "                                                                 \n",
      " flatten (Flatten)           (None, 100352)            0         \n",
      "                                                                 \n",
      " dense (Dense)               (None, 256)               25690368  \n",
      "                                                                 \n",
      " dense_1 (Dense)             (None, 5)                 1285      \n",
      "                                                                 \n",
      "=================================================================\n",
      "Total params: 25,749,637\n",
      "Trainable params: 25,749,637\n",
      "Non-trainable params: 0\n",
      "_________________________________________________________________\n",
      "None\n"
     ]
    }
   ],
   "source": [
    "# create the `train_generator` and the `val_generator` which is used in `.fit_generator`.\n",
    "\n",
    "train_generator = generator(train_path, train_doc, batch_size)\n",
    "val_generator = generator(val_path, val_doc, batch_size)\n",
    "\n",
    "num_epochs = 10              # choose the number of epochs\n",
    "\n",
    "model_name = 'model_init' + '_' + str(curr_dt_time).replace(' ','').replace(':','_') + '/'\n",
    "    \n",
    "if not os.path.exists(model_name):\n",
    "    os.mkdir(model_name)\n",
    "        \n",
    "filepath = model_name + 'model-{epoch:05d}-{loss:.5f}-{categorical_accuracy:.5f}-{val_loss:.5f}-{val_categorical_accuracy:.5f}.h5'\n",
    "\n",
    "checkpoint = ModelCheckpoint(filepath, monitor='val_loss', verbose=1, save_best_only=False, save_weights_only=False, mode='auto', save_freq='epoch')\n",
    "\n",
    "LR =ReduceLROnPlateau(monitor='val_loss', factor=0.2, verbose=1, patience=4) # write the REducelronplateau code here\n",
    "earlystop = EarlyStopping( monitor=\"val_loss\", min_delta=0,patience=10,verbose=1)\n",
    "callbacks_list = [checkpoint, LR, earlystop]\n",
    "\n",
    "if (num_train_sequences%batch_size) == 0:\n",
    "    steps_per_epoch = int(num_train_sequences/batch_size)\n",
    "else:\n",
    "    steps_per_epoch = (num_train_sequences//batch_size) + 1\n",
    "\n",
    "if (num_val_sequences%batch_size) == 0:\n",
    "    validation_steps = int(num_val_sequences/batch_size)\n",
    "else:\n",
    "    validation_steps = (num_val_sequences//batch_size) + 1\n",
    "    \n",
    "optimiser =tf.keras.optimizers.Adam() #write your optimizer\n",
    "model.compile(optimizer=optimiser, loss='categorical_crossentropy', metrics=['categorical_accuracy'])\n",
    "print (model.summary())\n"
   ]
  },
  {
   "cell_type": "markdown",
   "metadata": {
    "id": "D_joHaloAAPw"
   },
   "source": [
    "\n",
    "Now fit the model. This will start training the model and with the help of the checkpoints, you'll be able to save the model at the end of each epoch."
   ]
  },
  {
   "cell_type": "code",
   "execution_count": 11,
   "metadata": {
    "colab": {
     "base_uri": "https://localhost:8080/"
    },
    "id": "cQa1YT3fAAPx",
    "outputId": "55e6cad7-be14-478d-a284-540736a3f671"
   },
   "outputs": [
    {
     "name": "stdout",
     "output_type": "stream",
     "text": [
      "Source path =  /datasets/Project_data/train ; batch size = 40\n",
      "Epoch 1/10\n"
     ]
    },
    {
     "name": "stderr",
     "output_type": "stream",
     "text": [
      "2022-06-15 01:54:55.087132: I tensorflow/stream_executor/cuda/cuda_dnn.cc:377] Loaded cuDNN version 8302\n"
     ]
    },
    {
     "name": "stdout",
     "output_type": "stream",
     "text": [
      "17/17 [==============================] - ETA: 0s - loss: 2.5664 - categorical_accuracy: 0.2099Source path =  /datasets/Project_data/val ; batch size = 40\n",
      "\n",
      "Epoch 00001: saving model to model_init_2022-06-1501_54_49.039378/model-00001-2.56635-0.20991-1.28946-0.21667.h5\n",
      "17/17 [==============================] - 66s 4s/step - loss: 2.5664 - categorical_accuracy: 0.2099 - val_loss: 1.2895 - val_categorical_accuracy: 0.2167 - lr: 0.0010\n",
      "Epoch 2/10\n",
      "17/17 [==============================] - ETA: 0s - loss: 1.3433 - categorical_accuracy: 0.3703\n",
      "Epoch 00002: saving model to model_init_2022-06-1501_54_49.039378/model-00002-1.34332-0.37026-1.05802-0.40833.h5\n",
      "17/17 [==============================] - 66s 4s/step - loss: 1.3433 - categorical_accuracy: 0.3703 - val_loss: 1.0580 - val_categorical_accuracy: 0.4083 - lr: 0.0010\n",
      "Epoch 3/10\n",
      "17/17 [==============================] - ETA: 0s - loss: 1.0288 - categorical_accuracy: 0.5583\n",
      "Epoch 00003: saving model to model_init_2022-06-1501_54_49.039378/model-00003-1.02881-0.55831-0.94779-0.45000.h5\n",
      "17/17 [==============================] - 62s 4s/step - loss: 1.0288 - categorical_accuracy: 0.5583 - val_loss: 0.9478 - val_categorical_accuracy: 0.4500 - lr: 0.0010\n",
      "Epoch 4/10\n",
      "17/17 [==============================] - ETA: 0s - loss: 0.6927 - categorical_accuracy: 0.7099\n",
      "Epoch 00004: saving model to model_init_2022-06-1501_54_49.039378/model-00004-0.69274-0.70991-0.83736-0.55000.h5\n",
      "17/17 [==============================] - 64s 4s/step - loss: 0.6927 - categorical_accuracy: 0.7099 - val_loss: 0.8374 - val_categorical_accuracy: 0.5500 - lr: 0.0010\n",
      "Epoch 5/10\n",
      "17/17 [==============================] - ETA: 0s - loss: 0.3906 - categorical_accuracy: 0.8251\n",
      "Epoch 00005: saving model to model_init_2022-06-1501_54_49.039378/model-00005-0.39056-0.82507-0.87601-0.69167.h5\n",
      "17/17 [==============================] - 63s 4s/step - loss: 0.3906 - categorical_accuracy: 0.8251 - val_loss: 0.8760 - val_categorical_accuracy: 0.6917 - lr: 0.0010\n",
      "Epoch 6/10\n",
      "17/17 [==============================] - ETA: 0s - loss: 0.3053 - categorical_accuracy: 0.8761\n",
      "Epoch 00006: saving model to model_init_2022-06-1501_54_49.039378/model-00006-0.30529-0.87609-1.53516-0.67500.h5\n",
      "17/17 [==============================] - 63s 4s/step - loss: 0.3053 - categorical_accuracy: 0.8761 - val_loss: 1.5352 - val_categorical_accuracy: 0.6750 - lr: 0.0010\n",
      "Epoch 7/10\n",
      "17/17 [==============================] - ETA: 0s - loss: 0.2774 - categorical_accuracy: 0.9140\n",
      "Epoch 00007: saving model to model_init_2022-06-1501_54_49.039378/model-00007-0.27737-0.91399-1.09376-0.53333.h5\n",
      "17/17 [==============================] - 64s 4s/step - loss: 0.2774 - categorical_accuracy: 0.9140 - val_loss: 1.0938 - val_categorical_accuracy: 0.5333 - lr: 0.0010\n",
      "Epoch 8/10\n",
      "17/17 [==============================] - ETA: 0s - loss: 1.1199 - categorical_accuracy: 0.7289\n",
      "Epoch 00008: saving model to model_init_2022-06-1501_54_49.039378/model-00008-1.11990-0.72886-1.11173-0.47500.h5\n",
      "\n",
      "Epoch 00008: ReduceLROnPlateau reducing learning rate to 0.00020000000949949026.\n",
      "17/17 [==============================] - 64s 4s/step - loss: 1.1199 - categorical_accuracy: 0.7289 - val_loss: 1.1117 - val_categorical_accuracy: 0.4750 - lr: 0.0010\n",
      "Epoch 9/10\n",
      "17/17 [==============================] - ETA: 0s - loss: 0.6037 - categorical_accuracy: 0.7988\n",
      "Epoch 00009: saving model to model_init_2022-06-1501_54_49.039378/model-00009-0.60374-0.79883-1.05809-0.54167.h5\n",
      "17/17 [==============================] - 63s 4s/step - loss: 0.6037 - categorical_accuracy: 0.7988 - val_loss: 1.0581 - val_categorical_accuracy: 0.5417 - lr: 2.0000e-04\n",
      "Epoch 10/10\n",
      "17/17 [==============================] - ETA: 0s - loss: 0.3418 - categorical_accuracy: 0.8907\n",
      "Epoch 00010: saving model to model_init_2022-06-1501_54_49.039378/model-00010-0.34177-0.89067-1.12192-0.54167.h5\n",
      "17/17 [==============================] - 64s 4s/step - loss: 0.3418 - categorical_accuracy: 0.8907 - val_loss: 1.1219 - val_categorical_accuracy: 0.5417 - lr: 2.0000e-04\n"
     ]
    }
   ],
   "source": [
    "history=model.fit(train_generator, steps_per_epoch=steps_per_epoch, epochs=num_epochs, verbose=1, \n",
    "                    callbacks=callbacks_list, validation_data=val_generator, \n",
    "                    validation_steps=validation_steps, class_weight=None, workers=1, initial_epoch=0)"
   ]
  },
  {
   "cell_type": "code",
   "execution_count": 12,
   "metadata": {
    "id": "FvMxLdEcNCzl",
    "outputId": "3f431eca-f7a4-4a02-9dff-675efeb20f97"
   },
   "outputs": [
    {
     "data": {
      "image/png": "[encoded data removed]",
      "text/plain": [
       "<Figure size 1080x288 with 2 Axes>"
      ]
     },
     "metadata": {
      "needs_background": "light"
     },
     "output_type": "display_data"
    }
   ],
   "source": [
    "plot(history)"
   ]
  },
  {
   "cell_type": "markdown",
   "metadata": {},
   "source": [
    "### Model 1 Output says:\n",
    "- categorical_accuracy: 0.8907  \n",
    "- val_categorical_accuracy: 0.5417\n",
    "\n",
    "Model is overfit"
   ]
  },
  {
   "cell_type": "markdown",
   "metadata": {
    "id": "tCMiw-kFAAPx"
   },
   "source": [
    "### 2nd Model : Conv3D with BatchNormalization\n",
    "### here Batch size = 40, No of epoch = 15"
   ]
  },
  {
   "cell_type": "code",
   "execution_count": 13,
   "metadata": {
    "id": "MqK3t5CRAAPx"
   },
   "outputs": [],
   "source": [
    " model = Sequential()\n",
    "\n",
    " model.add(Conv3D(32, kernel_size=3, activation='relu', input_shape=input_shape))\n",
    " model.add(Conv3D(64, kernel_size=3, activation='relu'))\n",
    " model.add(MaxPooling3D(pool_size=(2, 2, 2)))\n",
    " model.add(BatchNormalization())\n",
    "\n",
    " model.add(Conv3D(128, kernel_size=3, activation='relu'))\n",
    " model.add(MaxPooling3D(pool_size=(1, 2, 2)))\n",
    " model.add(BatchNormalization())\n",
    "\n",
    " model.add(Conv3D(256, kernel_size=(1, 3, 3), activation='relu'))\n",
    " model.add(MaxPooling3D(pool_size=(1, 2, 2)))\n",
    " model.add(BatchNormalization())\n",
    " model.add(Conv3D(512, kernel_size=(1, 3, 3), activation='relu'))\n",
    " model.add(Conv3D(512, kernel_size=(1, 3, 3), activation='relu'))\n",
    " model.add(MaxPooling3D(pool_size=(1, 2, 2)))\n",
    " model.add(BatchNormalization())\n",
    "\n",
    " model.add(Flatten())\n",
    " model.add(Dense(512, activation='relu'))\n",
    " model.add(BatchNormalization())\n",
    " model.add(Dense(5, activation='softmax'))"
   ]
  },
  {
   "cell_type": "code",
   "execution_count": 14,
   "metadata": {
    "id": "hbyIvTSCNPGZ"
   },
   "outputs": [
    {
     "name": "stdout",
     "output_type": "stream",
     "text": [
      "Model: \"sequential_1\"\n",
      "_________________________________________________________________\n",
      " Layer (type)                Output Shape              Param #   \n",
      "=================================================================\n",
      " conv3d_2 (Conv3D)           (None, 14, 118, 118, 32)  2624      \n",
      "                                                                 \n",
      " conv3d_3 (Conv3D)           (None, 12, 116, 116, 64)  55360     \n",
      "                                                                 \n",
      " max_pooling3d_2 (MaxPooling  (None, 6, 58, 58, 64)    0         \n",
      " 3D)                                                             \n",
      "                                                                 \n",
      " batch_normalization (BatchN  (None, 6, 58, 58, 64)    256       \n",
      " ormalization)                                                   \n",
      "                                                                 \n",
      " conv3d_4 (Conv3D)           (None, 4, 56, 56, 128)    221312    \n",
      "                                                                 \n",
      " max_pooling3d_3 (MaxPooling  (None, 4, 28, 28, 128)   0         \n",
      " 3D)                                                             \n",
      "                                                                 \n",
      " batch_normalization_1 (Batc  (None, 4, 28, 28, 128)   512       \n",
      " hNormalization)                                                 \n",
      "                                                                 \n",
      " conv3d_5 (Conv3D)           (None, 4, 26, 26, 256)    295168    \n",
      "                                                                 \n",
      " max_pooling3d_4 (MaxPooling  (None, 4, 13, 13, 256)   0         \n",
      " 3D)                                                             \n",
      "                                                                 \n",
      " batch_normalization_2 (Batc  (None, 4, 13, 13, 256)   1024      \n",
      " hNormalization)                                                 \n",
      "                                                                 \n",
      " conv3d_6 (Conv3D)           (None, 4, 11, 11, 512)    1180160   \n",
      "                                                                 \n",
      " conv3d_7 (Conv3D)           (None, 4, 9, 9, 512)      2359808   \n",
      "                                                                 \n",
      " max_pooling3d_5 (MaxPooling  (None, 4, 4, 4, 512)     0         \n",
      " 3D)                                                             \n",
      "                                                                 \n",
      " batch_normalization_3 (Batc  (None, 4, 4, 4, 512)     2048      \n",
      " hNormalization)                                                 \n",
      "                                                                 \n",
      " flatten_1 (Flatten)         (None, 32768)             0         \n",
      "                                                                 \n",
      " dense_2 (Dense)             (None, 512)               16777728  \n",
      "                                                                 \n",
      " batch_normalization_4 (Batc  (None, 512)              2048      \n",
      " hNormalization)                                                 \n",
      "                                                                 \n",
      " dense_3 (Dense)             (None, 5)                 2565      \n",
      "                                                                 \n",
      "=================================================================\n",
      "Total params: 20,900,613\n",
      "Trainable params: 20,897,669\n",
      "Non-trainable params: 2,944\n",
      "_________________________________________________________________\n",
      "None\n"
     ]
    }
   ],
   "source": [
    "num_epochs = 15              # choose the number of epochs\n",
    "\n",
    "model_name = 'model_init' + '_' + str(curr_dt_time).replace(' ','').replace(':','_') + '/'\n",
    "    \n",
    "if not os.path.exists(model_name):\n",
    "    os.mkdir(model_name)\n",
    "        \n",
    "filepath = model_name + 'model-{epoch:05d}-{loss:.5f}-{categorical_accuracy:.5f}-{val_loss:.5f}-{val_categorical_accuracy:.5f}.h5'\n",
    "\n",
    "checkpoint = ModelCheckpoint(filepath, monitor='val_loss', verbose=1, save_best_only=False, save_weights_only=False, mode='auto', save_freq='epoch')\n",
    "\n",
    "LR =ReduceLROnPlateau(monitor='val_loss', factor=0.2, verbose=1, patience=4) # write the REducelronplateau code here\n",
    "earlystop = EarlyStopping( monitor=\"val_loss\", min_delta=0,patience=10,verbose=1)\n",
    "callbacks_list = [checkpoint, LR, earlystop]\n",
    "\n",
    "optimiser =tf.keras.optimizers.Adam() #write your optimizer\n",
    "model.compile(optimizer=optimiser, loss='categorical_crossentropy', metrics=['categorical_accuracy'])\n",
    "print (model.summary())   "
   ]
  },
  {
   "cell_type": "code",
   "execution_count": 15,
   "metadata": {
    "id": "lMGy3jPZAAPy"
   },
   "outputs": [
    {
     "name": "stdout",
     "output_type": "stream",
     "text": [
      "Epoch 1/15\n",
      "17/17 [==============================] - ETA: 0s - loss: 2.5746 - categorical_accuracy: 0.4315\n",
      "Epoch 00001: saving model to model_init_2022-06-1501_54_49.039378/model-00001-2.57456-0.43149-38.72210-0.17500.h5\n",
      "17/17 [==============================] - 86s 5s/step - loss: 2.5746 - categorical_accuracy: 0.4315 - val_loss: 38.7221 - val_categorical_accuracy: 0.1750 - lr: 0.0010\n",
      "Epoch 2/15\n",
      "17/17 [==============================] - ETA: 0s - loss: 1.0405 - categorical_accuracy: 0.5831\n",
      "Epoch 00002: saving model to model_init_2022-06-1501_54_49.039378/model-00002-1.04046-0.58309-6.85841-0.20833.h5\n",
      "17/17 [==============================] - 70s 4s/step - loss: 1.0405 - categorical_accuracy: 0.5831 - val_loss: 6.8584 - val_categorical_accuracy: 0.2083 - lr: 0.0010\n",
      "Epoch 3/15\n",
      "17/17 [==============================] - ETA: 0s - loss: 0.7717 - categorical_accuracy: 0.6662\n",
      "Epoch 00003: saving model to model_init_2022-06-1501_54_49.039378/model-00003-0.77174-0.66618-7.72963-0.20000.h5\n",
      "17/17 [==============================] - 65s 4s/step - loss: 0.7717 - categorical_accuracy: 0.6662 - val_loss: 7.7296 - val_categorical_accuracy: 0.2000 - lr: 0.0010\n",
      "Epoch 4/15\n",
      "17/17 [==============================] - ETA: 0s - loss: 0.7686 - categorical_accuracy: 0.6618\n",
      "Epoch 00004: saving model to model_init_2022-06-1501_54_49.039378/model-00004-0.76857-0.66181-1.51055-0.23333.h5\n",
      "17/17 [==============================] - 65s 4s/step - loss: 0.7686 - categorical_accuracy: 0.6618 - val_loss: 1.5106 - val_categorical_accuracy: 0.2333 - lr: 0.0010\n",
      "Epoch 5/15\n",
      "17/17 [==============================] - ETA: 0s - loss: 0.5607 - categorical_accuracy: 0.7799\n",
      "Epoch 00005: saving model to model_init_2022-06-1501_54_49.039378/model-00005-0.56072-0.77988-1.56990-0.22500.h5\n",
      "17/17 [==============================] - 63s 4s/step - loss: 0.5607 - categorical_accuracy: 0.7799 - val_loss: 1.5699 - val_categorical_accuracy: 0.2250 - lr: 0.0010\n",
      "Epoch 6/15\n",
      "17/17 [==============================] - ETA: 0s - loss: 0.3769 - categorical_accuracy: 0.8397\n",
      "Epoch 00006: saving model to model_init_2022-06-1501_54_49.039378/model-00006-0.37687-0.83965-1.72046-0.21667.h5\n",
      "17/17 [==============================] - 65s 4s/step - loss: 0.3769 - categorical_accuracy: 0.8397 - val_loss: 1.7205 - val_categorical_accuracy: 0.2167 - lr: 0.0010\n",
      "Epoch 7/15\n",
      "17/17 [==============================] - ETA: 0s - loss: 0.3387 - categorical_accuracy: 0.8630\n",
      "Epoch 00007: saving model to model_init_2022-06-1501_54_49.039378/model-00007-0.33869-0.86297-1.90026-0.24167.h5\n",
      "17/17 [==============================] - 65s 4s/step - loss: 0.3387 - categorical_accuracy: 0.8630 - val_loss: 1.9003 - val_categorical_accuracy: 0.2417 - lr: 0.0010\n",
      "Epoch 8/15\n",
      "17/17 [==============================] - ETA: 0s - loss: 0.2810 - categorical_accuracy: 0.8746\n",
      "Epoch 00008: saving model to model_init_2022-06-1501_54_49.039378/model-00008-0.28095-0.87464-2.02071-0.23333.h5\n",
      "\n",
      "Epoch 00008: ReduceLROnPlateau reducing learning rate to 0.00020000000949949026.\n",
      "17/17 [==============================] - 65s 4s/step - loss: 0.2810 - categorical_accuracy: 0.8746 - val_loss: 2.0207 - val_categorical_accuracy: 0.2333 - lr: 0.0010\n",
      "Epoch 9/15\n",
      "17/17 [==============================] - ETA: 0s - loss: 0.1825 - categorical_accuracy: 0.9140\n",
      "Epoch 00009: saving model to model_init_2022-06-1501_54_49.039378/model-00009-0.18253-0.91399-2.06897-0.25833.h5\n",
      "17/17 [==============================] - 67s 4s/step - loss: 0.1825 - categorical_accuracy: 0.9140 - val_loss: 2.0690 - val_categorical_accuracy: 0.2583 - lr: 2.0000e-04\n",
      "Epoch 10/15\n",
      "17/17 [==============================] - ETA: 0s - loss: 0.1255 - categorical_accuracy: 0.9708\n",
      "Epoch 00010: saving model to model_init_2022-06-1501_54_49.039378/model-00010-0.12553-0.97085-1.93917-0.25000.h5\n",
      "17/17 [==============================] - 66s 4s/step - loss: 0.1255 - categorical_accuracy: 0.9708 - val_loss: 1.9392 - val_categorical_accuracy: 0.2500 - lr: 2.0000e-04\n",
      "Epoch 11/15\n",
      "17/17 [==============================] - ETA: 0s - loss: 0.0927 - categorical_accuracy: 0.9796\n",
      "Epoch 00011: saving model to model_init_2022-06-1501_54_49.039378/model-00011-0.09267-0.97959-1.96465-0.28333.h5\n",
      "17/17 [==============================] - 64s 4s/step - loss: 0.0927 - categorical_accuracy: 0.9796 - val_loss: 1.9646 - val_categorical_accuracy: 0.2833 - lr: 2.0000e-04\n",
      "Epoch 12/15\n",
      "17/17 [==============================] - ETA: 0s - loss: 0.0648 - categorical_accuracy: 0.9548\n",
      "Epoch 00012: saving model to model_init_2022-06-1501_54_49.039378/model-00012-0.06484-0.95481-2.17622-0.19167.h5\n",
      "\n",
      "Epoch 00012: ReduceLROnPlateau reducing learning rate to 4.0000001899898055e-05.\n",
      "17/17 [==============================] - 65s 4s/step - loss: 0.0648 - categorical_accuracy: 0.9548 - val_loss: 2.1762 - val_categorical_accuracy: 0.1917 - lr: 2.0000e-04\n",
      "Epoch 13/15\n",
      "17/17 [==============================] - ETA: 0s - loss: 0.0511 - categorical_accuracy: 0.9592\n",
      "Epoch 00013: saving model to model_init_2022-06-1501_54_49.039378/model-00013-0.05108-0.95918-2.15064-0.20000.h5\n",
      "17/17 [==============================] - 66s 4s/step - loss: 0.0511 - categorical_accuracy: 0.9592 - val_loss: 2.1506 - val_categorical_accuracy: 0.2000 - lr: 4.0000e-05\n",
      "Epoch 14/15\n",
      "17/17 [==============================] - ETA: 0s - loss: 0.0491 - categorical_accuracy: 0.9927\n",
      "Epoch 00014: saving model to model_init_2022-06-1501_54_49.039378/model-00014-0.04905-0.99271-1.95318-0.22500.h5\n",
      "17/17 [==============================] - 84s 5s/step - loss: 0.0491 - categorical_accuracy: 0.9927 - val_loss: 1.9532 - val_categorical_accuracy: 0.2250 - lr: 4.0000e-05\n",
      "Epoch 00014: early stopping\n"
     ]
    }
   ],
   "source": [
    "history=model.fit(train_generator, steps_per_epoch=steps_per_epoch, epochs=num_epochs, verbose=1, \n",
    "                    callbacks=callbacks_list, validation_data=val_generator, \n",
    "                    validation_steps=validation_steps, class_weight=None, workers=1, initial_epoch=0)"
   ]
  },
  {
   "cell_type": "code",
   "execution_count": 16,
   "metadata": {
    "id": "W_q5iW5K84ox"
   },
   "outputs": [
    {
     "data": {
      "image/png": "[encoded data removed]",
      "text/plain": [
       "<Figure size 1080x288 with 2 Axes>"
      ]
     },
     "metadata": {
      "needs_background": "light"
     },
     "output_type": "display_data"
    }
   ],
   "source": [
    "plot(history)"
   ]
  },
  {
   "cell_type": "markdown",
   "metadata": {},
   "source": [
    "### Model 2 Output says:\n",
    "- categorical_accuracy: 0.9927  \n",
    "- val_categorical_accuracy: 0.2250\n",
    "\n",
    "Model is early stopping as accuracy is not increasing with each consistnet epoch."
   ]
  },
  {
   "cell_type": "markdown",
   "metadata": {
    "id": "COsmXUPqAAPz"
   },
   "source": [
    "### 3rd Model : Conv3D with BatchNormalization and Dropout\n",
    "### here batch_size = 40, No of epoch = 20"
   ]
  },
  {
   "cell_type": "code",
   "execution_count": 9,
   "metadata": {
    "id": "hvG8vHYuAAPz"
   },
   "outputs": [
    {
     "name": "stderr",
     "output_type": "stream",
     "text": [
      "2022-06-15 05:53:23.945842: W tensorflow/core/common_runtime/gpu/gpu_bfc_allocator.cc:39] Overriding allow_growth setting because the TF_FORCE_GPU_ALLOW_GROWTH environment variable is set. Original config value was 0.\n",
      "2022-06-15 05:53:23.945904: I tensorflow/core/common_runtime/gpu/gpu_device.cc:1525] Created device /job:localhost/replica:0/task:0/device:GPU:0 with 14803 MB memory:  -> device: 0, name: Quadro RTX 5000, pci bus id: 0000:1c:00.0, compute capability: 7.5\n"
     ]
    }
   ],
   "source": [
    "model = Sequential()\n",
    "\n",
    "model.add(Conv3D(32, kernel_size=3, activation='relu', input_shape=input_shape))\n",
    "model.add(Conv3D(64, kernel_size=3, activation='relu'))\n",
    "model.add(MaxPooling3D(pool_size=(2, 2, 2)))\n",
    "model.add(BatchNormalization())\n",
    "model.add(Dropout(0.5))\n",
    "\n",
    "model.add(Conv3D(128, kernel_size=3, activation='relu'))\n",
    "model.add(MaxPooling3D(pool_size=(1, 2, 2)))\n",
    "model.add(BatchNormalization())\n",
    "model.add(Dropout(0.5))\n",
    "\n",
    "model.add(Conv3D(256, kernel_size=(1, 3, 3), activation='relu'))\n",
    "model.add(MaxPooling3D(pool_size=(1, 2, 2)))\n",
    "model.add(BatchNormalization())\n",
    "model.add(Dropout(0.5))\n",
    "\n",
    "model.add(Conv3D(512, kernel_size=(1, 3, 3), activation='relu'))\n",
    "model.add(Conv3D(512, kernel_size=(1, 3, 3), activation='relu'))\n",
    "model.add(MaxPooling3D(pool_size=(1, 2, 2)))\n",
    "model.add(BatchNormalization())\n",
    "model.add(Dropout(0.5))\n",
    "\n",
    "model.add(Flatten())\n",
    "model.add(Dense(512, activation='relu'))\n",
    "model.add(BatchNormalization())\n",
    "model.add(Dense(5, activation='softmax'))"
   ]
  },
  {
   "cell_type": "code",
   "execution_count": 15,
   "metadata": {
    "id": "omtw4m6Zg3Xf"
   },
   "outputs": [
    {
     "name": "stdout",
     "output_type": "stream",
     "text": [
      "Model: \"sequential\"\n",
      "_________________________________________________________________\n",
      " Layer (type)                Output Shape              Param #   \n",
      "=================================================================\n",
      " conv3d (Conv3D)             (None, 14, 118, 118, 32)  2624      \n",
      "                                                                 \n",
      " conv3d_1 (Conv3D)           (None, 12, 116, 116, 64)  55360     \n",
      "                                                                 \n",
      " max_pooling3d (MaxPooling3D  (None, 6, 58, 58, 64)    0         \n",
      " )                                                               \n",
      "                                                                 \n",
      " batch_normalization (BatchN  (None, 6, 58, 58, 64)    256       \n",
      " ormalization)                                                   \n",
      "                                                                 \n",
      " dropout (Dropout)           (None, 6, 58, 58, 64)     0         \n",
      "                                                                 \n",
      " conv3d_2 (Conv3D)           (None, 4, 56, 56, 128)    221312    \n",
      "                                                                 \n",
      " max_pooling3d_1 (MaxPooling  (None, 4, 28, 28, 128)   0         \n",
      " 3D)                                                             \n",
      "                                                                 \n",
      " batch_normalization_1 (Batc  (None, 4, 28, 28, 128)   512       \n",
      " hNormalization)                                                 \n",
      "                                                                 \n",
      " dropout_1 (Dropout)         (None, 4, 28, 28, 128)    0         \n",
      "                                                                 \n",
      " conv3d_3 (Conv3D)           (None, 4, 26, 26, 256)    295168    \n",
      "                                                                 \n",
      " max_pooling3d_2 (MaxPooling  (None, 4, 13, 13, 256)   0         \n",
      " 3D)                                                             \n",
      "                                                                 \n",
      " batch_normalization_2 (Batc  (None, 4, 13, 13, 256)   1024      \n",
      " hNormalization)                                                 \n",
      "                                                                 \n",
      " dropout_2 (Dropout)         (None, 4, 13, 13, 256)    0         \n",
      "                                                                 \n",
      " conv3d_4 (Conv3D)           (None, 4, 11, 11, 512)    1180160   \n",
      "                                                                 \n",
      " conv3d_5 (Conv3D)           (None, 4, 9, 9, 512)      2359808   \n",
      "                                                                 \n",
      " max_pooling3d_3 (MaxPooling  (None, 4, 4, 4, 512)     0         \n",
      " 3D)                                                             \n",
      "                                                                 \n",
      " batch_normalization_3 (Batc  (None, 4, 4, 4, 512)     2048      \n",
      " hNormalization)                                                 \n",
      "                                                                 \n",
      " dropout_3 (Dropout)         (None, 4, 4, 4, 512)      0         \n",
      "                                                                 \n",
      " flatten (Flatten)           (None, 32768)             0         \n",
      "                                                                 \n",
      " dense (Dense)               (None, 512)               16777728  \n",
      "                                                                 \n",
      " batch_normalization_4 (Batc  (None, 512)              2048      \n",
      " hNormalization)                                                 \n",
      "                                                                 \n",
      " dense_1 (Dense)             (None, 5)                 2565      \n",
      "                                                                 \n",
      "=================================================================\n",
      "Total params: 20,900,613\n",
      "Trainable params: 20,897,669\n",
      "Non-trainable params: 2,944\n",
      "_________________________________________________________________\n",
      "None\n"
     ]
    }
   ],
   "source": [
    "num_epochs = 20              # choose the number of epochs\n",
    "\n",
    "model_name = 'model_init' + '_' + str(curr_dt_time).replace(' ','').replace(':','_') + '/'\n",
    "    \n",
    "if not os.path.exists(model_name):\n",
    "    os.mkdir(model_name)\n",
    "        \n",
    "filepath = model_name + 'model-{epoch:05d}-{loss:.5f}-{categorical_accuracy:.5f}-{val_loss:.5f}-{val_categorical_accuracy:.5f}.h5'\n",
    "\n",
    "checkpoint = ModelCheckpoint(filepath, monitor='val_loss', verbose=1, save_best_only=False, save_weights_only=False, mode='auto', save_freq='epoch')\n",
    "\n",
    "LR =ReduceLROnPlateau(monitor='val_loss', factor=0.2, verbose=1, patience=4) # write the REducelronplateau code here\n",
    "earlystop = EarlyStopping( monitor=\"val_loss\", min_delta=0,patience=10,verbose=1)\n",
    "callbacks_list = [checkpoint, LR, earlystop]\n",
    "\n",
    "optimiser =tf.keras.optimizers.Adam() #write your optimizer\n",
    "model.compile(optimizer=optimiser, loss='categorical_crossentropy', metrics=['categorical_accuracy'])\n",
    "print (model.summary()) "
   ]
  },
  {
   "cell_type": "code",
   "execution_count": 16,
   "metadata": {
    "id": "MQdCRAegAAP0"
   },
   "outputs": [
    {
     "name": "stdout",
     "output_type": "stream",
     "text": [
      "Source path =  /datasets/Project_data/train ; batch size = 40\n",
      "Epoch 1/20\n"
     ]
    },
    {
     "name": "stderr",
     "output_type": "stream",
     "text": [
      "2022-06-15 05:55:58.339444: I tensorflow/stream_executor/cuda/cuda_dnn.cc:377] Loaded cuDNN version 8302\n"
     ]
    },
    {
     "name": "stdout",
     "output_type": "stream",
     "text": [
      "17/17 [==============================] - ETA: 0s - loss: 2.3382 - categorical_accuracy: 0.3994Source path =  /datasets/Project_data/val ; batch size = 40\n",
      "\n",
      "Epoch 00001: saving model to model_init_2022-06-1505_52_53.718290/model-00001-2.33823-0.39942-3.52200-0.20833.h5\n",
      "17/17 [==============================] - 91s 5s/step - loss: 2.3382 - categorical_accuracy: 0.3994 - val_loss: 3.5220 - val_categorical_accuracy: 0.2083 - lr: 0.0010\n",
      "Epoch 2/20\n",
      "17/17 [==============================] - ETA: 0s - loss: 1.1003 - categorical_accuracy: 0.5394\n",
      "Epoch 00002: saving model to model_init_2022-06-1505_52_53.718290/model-00002-1.10027-0.53936-2.07787-0.17500.h5\n",
      "17/17 [==============================] - 76s 5s/step - loss: 1.1003 - categorical_accuracy: 0.5394 - val_loss: 2.0779 - val_categorical_accuracy: 0.1750 - lr: 0.0010\n",
      "Epoch 3/20\n",
      "17/17 [==============================] - ETA: 0s - loss: 0.9042 - categorical_accuracy: 0.6195\n",
      "Epoch 00003: saving model to model_init_2022-06-1505_52_53.718290/model-00003-0.90424-0.61953-2.46482-0.12500.h5\n",
      "17/17 [==============================] - 65s 4s/step - loss: 0.9042 - categorical_accuracy: 0.6195 - val_loss: 2.4648 - val_categorical_accuracy: 0.1250 - lr: 0.0010\n",
      "Epoch 4/20\n",
      "17/17 [==============================] - ETA: 0s - loss: 0.7311 - categorical_accuracy: 0.7099\n",
      "Epoch 00004: saving model to model_init_2022-06-1505_52_53.718290/model-00004-0.73112-0.70991-3.51903-0.13333.h5\n",
      "17/17 [==============================] - 66s 4s/step - loss: 0.7311 - categorical_accuracy: 0.7099 - val_loss: 3.5190 - val_categorical_accuracy: 0.1333 - lr: 0.0010\n",
      "Epoch 5/20\n",
      "17/17 [==============================] - ETA: 0s - loss: 0.5658 - categorical_accuracy: 0.7347\n",
      "Epoch 00005: saving model to model_init_2022-06-1505_52_53.718290/model-00005-0.56576-0.73469-1.81921-0.18333.h5\n",
      "17/17 [==============================] - 65s 4s/step - loss: 0.5658 - categorical_accuracy: 0.7347 - val_loss: 1.8192 - val_categorical_accuracy: 0.1833 - lr: 0.0010\n",
      "Epoch 6/20\n",
      "17/17 [==============================] - ETA: 0s - loss: 0.5256 - categorical_accuracy: 0.7784\n",
      "Epoch 00006: saving model to model_init_2022-06-1505_52_53.718290/model-00006-0.52562-0.77843-2.25401-0.20833.h5\n",
      "17/17 [==============================] - 64s 4s/step - loss: 0.5256 - categorical_accuracy: 0.7784 - val_loss: 2.2540 - val_categorical_accuracy: 0.2083 - lr: 0.0010\n",
      "Epoch 7/20\n",
      "17/17 [==============================] - ETA: 0s - loss: 0.4710 - categorical_accuracy: 0.7843\n",
      "Epoch 00007: saving model to model_init_2022-06-1505_52_53.718290/model-00007-0.47103-0.78426-2.09575-0.20833.h5\n",
      "17/17 [==============================] - 65s 4s/step - loss: 0.4710 - categorical_accuracy: 0.7843 - val_loss: 2.0957 - val_categorical_accuracy: 0.2083 - lr: 0.0010\n",
      "Epoch 8/20\n",
      "17/17 [==============================] - ETA: 0s - loss: 0.3562 - categorical_accuracy: 0.8513\n",
      "Epoch 00008: saving model to model_init_2022-06-1505_52_53.718290/model-00008-0.35622-0.85131-2.59444-0.15000.h5\n",
      "17/17 [==============================] - 66s 4s/step - loss: 0.3562 - categorical_accuracy: 0.8513 - val_loss: 2.5944 - val_categorical_accuracy: 0.1500 - lr: 0.0010\n",
      "Epoch 9/20\n",
      "17/17 [==============================] - ETA: 0s - loss: 0.3148 - categorical_accuracy: 0.8615\n",
      "Epoch 00009: saving model to model_init_2022-06-1505_52_53.718290/model-00009-0.31483-0.86152-2.27473-0.19167.h5\n",
      "\n",
      "Epoch 00009: ReduceLROnPlateau reducing learning rate to 0.00020000000949949026.\n",
      "17/17 [==============================] - 65s 4s/step - loss: 0.3148 - categorical_accuracy: 0.8615 - val_loss: 2.2747 - val_categorical_accuracy: 0.1917 - lr: 0.0010\n",
      "Epoch 10/20\n",
      "17/17 [==============================] - ETA: 0s - loss: 0.2284 - categorical_accuracy: 0.8936\n",
      "Epoch 00010: saving model to model_init_2022-06-1505_52_53.718290/model-00010-0.22840-0.89359-2.01639-0.23333.h5\n",
      "17/17 [==============================] - 67s 4s/step - loss: 0.2284 - categorical_accuracy: 0.8936 - val_loss: 2.0164 - val_categorical_accuracy: 0.2333 - lr: 2.0000e-04\n",
      "Epoch 11/20\n",
      "17/17 [==============================] - ETA: 0s - loss: 0.1659 - categorical_accuracy: 0.9140\n",
      "Epoch 00011: saving model to model_init_2022-06-1505_52_53.718290/model-00011-0.16594-0.91399-3.01729-0.15833.h5\n",
      "17/17 [==============================] - 67s 4s/step - loss: 0.1659 - categorical_accuracy: 0.9140 - val_loss: 3.0173 - val_categorical_accuracy: 0.1583 - lr: 2.0000e-04\n",
      "Epoch 12/20\n",
      "17/17 [==============================] - ETA: 0s - loss: 0.1213 - categorical_accuracy: 0.9402\n",
      "Epoch 00012: saving model to model_init_2022-06-1505_52_53.718290/model-00012-0.12126-0.94023-2.05845-0.23333.h5\n",
      "17/17 [==============================] - 66s 4s/step - loss: 0.1213 - categorical_accuracy: 0.9402 - val_loss: 2.0585 - val_categorical_accuracy: 0.2333 - lr: 2.0000e-04\n",
      "Epoch 13/20\n",
      "17/17 [==============================] - ETA: 0s - loss: 0.0905 - categorical_accuracy: 0.9461\n",
      "Epoch 00013: saving model to model_init_2022-06-1505_52_53.718290/model-00013-0.09046-0.94606-2.58866-0.15000.h5\n",
      "\n",
      "Epoch 00013: ReduceLROnPlateau reducing learning rate to 4.0000001899898055e-05.\n",
      "17/17 [==============================] - 68s 4s/step - loss: 0.0905 - categorical_accuracy: 0.9461 - val_loss: 2.5887 - val_categorical_accuracy: 0.1500 - lr: 2.0000e-04\n",
      "Epoch 14/20\n",
      "17/17 [==============================] - ETA: 0s - loss: 0.1237 - categorical_accuracy: 0.9388\n",
      "Epoch 00014: saving model to model_init_2022-06-1505_52_53.718290/model-00014-0.12375-0.93878-2.84337-0.14167.h5\n",
      "17/17 [==============================] - 65s 4s/step - loss: 0.1237 - categorical_accuracy: 0.9388 - val_loss: 2.8434 - val_categorical_accuracy: 0.1417 - lr: 4.0000e-05\n",
      "Epoch 15/20\n",
      "17/17 [==============================] - ETA: 0s - loss: 0.0951 - categorical_accuracy: 0.9431\n",
      "Epoch 00015: saving model to model_init_2022-06-1505_52_53.718290/model-00015-0.09506-0.94315-2.76949-0.16667.h5\n",
      "17/17 [==============================] - 63s 4s/step - loss: 0.0951 - categorical_accuracy: 0.9431 - val_loss: 2.7695 - val_categorical_accuracy: 0.1667 - lr: 4.0000e-05\n",
      "Epoch 00015: early stopping\n"
     ]
    }
   ],
   "source": [
    "history=model.fit(train_generator, steps_per_epoch=steps_per_epoch, epochs=num_epochs, verbose=1, \n",
    "                    callbacks=callbacks_list, validation_data=val_generator, \n",
    "                    validation_steps=validation_steps, class_weight=None, workers=1, initial_epoch=0)"
   ]
  },
  {
   "cell_type": "markdown",
   "metadata": {
    "id": "XVgHyysFhIsd"
   },
   "source": [
    "plot(history)"
   ]
  },
  {
   "cell_type": "markdown",
   "metadata": {},
   "source": [
    "### Model 3 Output says:\n",
    "- categorical_accuracy: 0.9431  \n",
    "- val_categorical_accuracy: 0.1667\n",
    "\n",
    "Model is early stopping as accuracy is not increasing with each consistnet epoch."
   ]
  },
  {
   "cell_type": "markdown",
   "metadata": {
    "id": "maTdnlhFAAP0"
   },
   "source": [
    "### 4th Model: Conv3D with BatchNormalization,Dropout and GlobalAveragePooling\n",
    "### batch_size=40,epoch=30      "
   ]
  },
  {
   "cell_type": "code",
   "execution_count": 21,
   "metadata": {
    "id": "ispPOztBAAP0"
   },
   "outputs": [],
   "source": [
    "model = Sequential()\n",
    "\n",
    "model.add(Conv3D(32, kernel_size=3, activation='relu', input_shape=input_shape))\n",
    "model.add(Conv3D(64, kernel_size=3, activation='relu'))\n",
    "model.add(MaxPooling3D(pool_size=(2, 2, 2)))\n",
    "model.add(BatchNormalization())\n",
    "model.add(Dropout(0.2))\n",
    "\n",
    "model.add(Conv3D(128, kernel_size=3, activation='relu'))\n",
    "model.add(MaxPooling3D(pool_size=(1, 2, 2)))\n",
    "model.add(BatchNormalization())\n",
    "model.add(Dropout(0.2))\n",
    "model.add(Conv3D(256, kernel_size=(1, 3, 3), activation='relu'))\n",
    "model.add(MaxPooling3D(pool_size=(1, 2, 2)))\n",
    "model.add(BatchNormalization())\n",
    "model.add(Dropout(0.2))\n",
    "\n",
    "model.add(GlobalAveragePooling3D())\n",
    "model.add(Dense(512, activation='relu'))\n",
    "model.add(BatchNormalization())\n",
    "model.add(Dense(5, activation='softmax'))"
   ]
  },
  {
   "cell_type": "code",
   "execution_count": 22,
   "metadata": {
    "id": "z0-OmTUwhmlc"
   },
   "outputs": [
    {
     "name": "stdout",
     "output_type": "stream",
     "text": [
      "Model: \"sequential_3\"\n",
      "_________________________________________________________________\n",
      " Layer (type)                Output Shape              Param #   \n",
      "=================================================================\n",
      " conv3d_14 (Conv3D)          (None, 14, 118, 118, 32)  2624      \n",
      "                                                                 \n",
      " conv3d_15 (Conv3D)          (None, 12, 116, 116, 64)  55360     \n",
      "                                                                 \n",
      " max_pooling3d_10 (MaxPoolin  (None, 6, 58, 58, 64)    0         \n",
      " g3D)                                                            \n",
      "                                                                 \n",
      " batch_normalization_10 (Bat  (None, 6, 58, 58, 64)    256       \n",
      " chNormalization)                                                \n",
      "                                                                 \n",
      " dropout_4 (Dropout)         (None, 6, 58, 58, 64)     0         \n",
      "                                                                 \n",
      " conv3d_16 (Conv3D)          (None, 4, 56, 56, 128)    221312    \n",
      "                                                                 \n",
      " max_pooling3d_11 (MaxPoolin  (None, 4, 28, 28, 128)   0         \n",
      " g3D)                                                            \n",
      "                                                                 \n",
      " batch_normalization_11 (Bat  (None, 4, 28, 28, 128)   512       \n",
      " chNormalization)                                                \n",
      "                                                                 \n",
      " dropout_5 (Dropout)         (None, 4, 28, 28, 128)    0         \n",
      "                                                                 \n",
      " conv3d_17 (Conv3D)          (None, 4, 26, 26, 256)    295168    \n",
      "                                                                 \n",
      " max_pooling3d_12 (MaxPoolin  (None, 4, 13, 13, 256)   0         \n",
      " g3D)                                                            \n",
      "                                                                 \n",
      " batch_normalization_12 (Bat  (None, 4, 13, 13, 256)   1024      \n",
      " chNormalization)                                                \n",
      "                                                                 \n",
      " dropout_6 (Dropout)         (None, 4, 13, 13, 256)    0         \n",
      "                                                                 \n",
      " global_average_pooling3d (G  (None, 256)              0         \n",
      " lobalAveragePooling3D)                                          \n",
      "                                                                 \n",
      " dense_6 (Dense)             (None, 512)               131584    \n",
      "                                                                 \n",
      " batch_normalization_13 (Bat  (None, 512)              2048      \n",
      " chNormalization)                                                \n",
      "                                                                 \n",
      " dense_7 (Dense)             (None, 5)                 2565      \n",
      "                                                                 \n",
      "=================================================================\n",
      "Total params: 712,453\n",
      "Trainable params: 710,533\n",
      "Non-trainable params: 1,920\n",
      "_________________________________________________________________\n",
      "None\n"
     ]
    }
   ],
   "source": [
    "num_epochs = 30              # choose the number of epochs\n",
    "\n",
    "model_name = 'model_init' + '_' + str(curr_dt_time).replace(' ','').replace(':','_') + '/'\n",
    "    \n",
    "if not os.path.exists(model_name):\n",
    "    os.mkdir(model_name)\n",
    "        \n",
    "filepath = model_name + 'model-{epoch:05d}-{loss:.5f}-{categorical_accuracy:.5f}-{val_loss:.5f}-{val_categorical_accuracy:.5f}.h5'\n",
    "\n",
    "checkpoint = ModelCheckpoint(filepath, monitor='val_loss', verbose=1, save_best_only=False, save_weights_only=False, mode='auto', save_freq='epoch')\n",
    "\n",
    "LR =ReduceLROnPlateau(monitor='val_loss', factor=0.2, verbose=1, patience=4) # write the REducelronplateau code here\n",
    "earlystop = EarlyStopping( monitor=\"val_loss\", min_delta=0,patience=10,verbose=1)\n",
    "callbacks_list = [checkpoint, LR, earlystop]\n",
    "\n",
    "optimiser =tf.keras.optimizers.Adam() #write your optimizer\n",
    "model.compile(optimizer=optimiser, loss='categorical_crossentropy', metrics=['categorical_accuracy'])\n",
    "print (model.summary()) "
   ]
  },
  {
   "cell_type": "code",
   "execution_count": 23,
   "metadata": {
    "id": "X3TVEnLiAAP1"
   },
   "outputs": [
    {
     "name": "stdout",
     "output_type": "stream",
     "text": [
      "Epoch 1/30\n",
      "17/17 [==============================] - ETA: 0s - loss: 1.6105 - categorical_accuracy: 0.3921\n",
      "Epoch 00001: saving model to model_init_2022-06-1501_54_49.039378/model-00001-1.61051-0.39213-1.73833-0.19167.h5\n",
      "17/17 [==============================] - 67s 4s/step - loss: 1.6105 - categorical_accuracy: 0.3921 - val_loss: 1.7383 - val_categorical_accuracy: 0.1917 - lr: 0.0010\n",
      "Epoch 2/30\n",
      "17/17 [==============================] - ETA: 0s - loss: 1.0162 - categorical_accuracy: 0.5598\n",
      "Epoch 00002: saving model to model_init_2022-06-1501_54_49.039378/model-00002-1.01624-0.55977-1.44348-0.18333.h5\n",
      "17/17 [==============================] - 66s 4s/step - loss: 1.0162 - categorical_accuracy: 0.5598 - val_loss: 1.4435 - val_categorical_accuracy: 0.1833 - lr: 0.0010\n",
      "Epoch 3/30\n",
      "17/17 [==============================] - ETA: 0s - loss: 0.8771 - categorical_accuracy: 0.6254\n",
      "Epoch 00003: saving model to model_init_2022-06-1501_54_49.039378/model-00003-0.87708-0.62536-1.43031-0.18333.h5\n",
      "17/17 [==============================] - 64s 4s/step - loss: 0.8771 - categorical_accuracy: 0.6254 - val_loss: 1.4303 - val_categorical_accuracy: 0.1833 - lr: 0.0010\n",
      "Epoch 4/30\n",
      "17/17 [==============================] - ETA: 0s - loss: 0.8667 - categorical_accuracy: 0.6283\n",
      "Epoch 00004: saving model to model_init_2022-06-1501_54_49.039378/model-00004-0.86668-0.62828-1.32534-0.20833.h5\n",
      "17/17 [==============================] - 66s 4s/step - loss: 0.8667 - categorical_accuracy: 0.6283 - val_loss: 1.3253 - val_categorical_accuracy: 0.2083 - lr: 0.0010\n",
      "Epoch 5/30\n",
      "17/17 [==============================] - ETA: 0s - loss: 0.6746 - categorical_accuracy: 0.7143\n",
      "Epoch 00005: saving model to model_init_2022-06-1501_54_49.039378/model-00005-0.67463-0.71429-1.51853-0.15833.h5\n",
      "17/17 [==============================] - 65s 4s/step - loss: 0.6746 - categorical_accuracy: 0.7143 - val_loss: 1.5185 - val_categorical_accuracy: 0.1583 - lr: 0.0010\n",
      "Epoch 6/30\n",
      "17/17 [==============================] - ETA: 0s - loss: 0.6010 - categorical_accuracy: 0.7449\n",
      "Epoch 00006: saving model to model_init_2022-06-1501_54_49.039378/model-00006-0.60098-0.74490-1.63137-0.23333.h5\n",
      "17/17 [==============================] - 64s 4s/step - loss: 0.6010 - categorical_accuracy: 0.7449 - val_loss: 1.6314 - val_categorical_accuracy: 0.2333 - lr: 0.0010\n",
      "Epoch 7/30\n",
      "17/17 [==============================] - ETA: 0s - loss: 0.6801 - categorical_accuracy: 0.7187\n",
      "Epoch 00007: saving model to model_init_2022-06-1501_54_49.039378/model-00007-0.68009-0.71866-1.41869-0.22500.h5\n",
      "17/17 [==============================] - 65s 4s/step - loss: 0.6801 - categorical_accuracy: 0.7187 - val_loss: 1.4187 - val_categorical_accuracy: 0.2250 - lr: 0.0010\n",
      "Epoch 8/30\n",
      "17/17 [==============================] - ETA: 0s - loss: 0.5129 - categorical_accuracy: 0.7478\n",
      "Epoch 00008: saving model to model_init_2022-06-1501_54_49.039378/model-00008-0.51295-0.74781-1.70601-0.25000.h5\n",
      "\n",
      "Epoch 00008: ReduceLROnPlateau reducing learning rate to 0.00020000000949949026.\n",
      "17/17 [==============================] - 65s 4s/step - loss: 0.5129 - categorical_accuracy: 0.7478 - val_loss: 1.7060 - val_categorical_accuracy: 0.2500 - lr: 0.0010\n",
      "Epoch 9/30\n",
      "17/17 [==============================] - ETA: 0s - loss: 0.4438 - categorical_accuracy: 0.7930\n",
      "Epoch 00009: saving model to model_init_2022-06-1501_54_49.039378/model-00009-0.44383-0.79300-1.72165-0.23333.h5\n",
      "17/17 [==============================] - 64s 4s/step - loss: 0.4438 - categorical_accuracy: 0.7930 - val_loss: 1.7217 - val_categorical_accuracy: 0.2333 - lr: 2.0000e-04\n",
      "Epoch 10/30\n",
      "17/17 [==============================] - ETA: 0s - loss: 0.3629 - categorical_accuracy: 0.8265\n",
      "Epoch 00010: saving model to model_init_2022-06-1501_54_49.039378/model-00010-0.36293-0.82653-2.04138-0.22500.h5\n",
      "17/17 [==============================] - 66s 4s/step - loss: 0.3629 - categorical_accuracy: 0.8265 - val_loss: 2.0414 - val_categorical_accuracy: 0.2250 - lr: 2.0000e-04\n",
      "Epoch 11/30\n",
      "17/17 [==============================] - ETA: 0s - loss: 0.3238 - categorical_accuracy: 0.8703\n",
      "Epoch 00011: saving model to model_init_2022-06-1501_54_49.039378/model-00011-0.32379-0.87026-1.95892-0.12500.h5\n",
      "17/17 [==============================] - 67s 4s/step - loss: 0.3238 - categorical_accuracy: 0.8703 - val_loss: 1.9589 - val_categorical_accuracy: 0.1250 - lr: 2.0000e-04\n",
      "Epoch 12/30\n",
      "17/17 [==============================] - ETA: 0s - loss: 0.3039 - categorical_accuracy: 0.8892\n",
      "Epoch 00012: saving model to model_init_2022-06-1501_54_49.039378/model-00012-0.30391-0.88921-1.74724-0.27500.h5\n",
      "\n",
      "Epoch 00012: ReduceLROnPlateau reducing learning rate to 4.0000001899898055e-05.\n",
      "17/17 [==============================] - 62s 4s/step - loss: 0.3039 - categorical_accuracy: 0.8892 - val_loss: 1.7472 - val_categorical_accuracy: 0.2750 - lr: 2.0000e-04\n",
      "Epoch 13/30\n",
      "17/17 [==============================] - ETA: 0s - loss: 0.2910 - categorical_accuracy: 0.8936\n",
      "Epoch 00013: saving model to model_init_2022-06-1501_54_49.039378/model-00013-0.29097-0.89359-1.95082-0.21667.h5\n",
      "17/17 [==============================] - 65s 4s/step - loss: 0.2910 - categorical_accuracy: 0.8936 - val_loss: 1.9508 - val_categorical_accuracy: 0.2167 - lr: 4.0000e-05\n",
      "Epoch 14/30\n",
      "17/17 [==============================] - ETA: 0s - loss: 0.2662 - categorical_accuracy: 0.9052\n",
      "Epoch 00014: saving model to model_init_2022-06-1501_54_49.039378/model-00014-0.26621-0.90525-2.01971-0.19167.h5\n",
      "17/17 [==============================] - 62s 4s/step - loss: 0.2662 - categorical_accuracy: 0.9052 - val_loss: 2.0197 - val_categorical_accuracy: 0.1917 - lr: 4.0000e-05\n",
      "Epoch 00014: early stopping\n"
     ]
    }
   ],
   "source": [
    "history=model.fit(train_generator, steps_per_epoch=steps_per_epoch, epochs=num_epochs, verbose=1, \n",
    "                    callbacks=callbacks_list, validation_data=val_generator, \n",
    "                    validation_steps=validation_steps, class_weight=None, workers=1, initial_epoch=0)"
   ]
  },
  {
   "cell_type": "code",
   "execution_count": 26,
   "metadata": {
    "id": "bckqI6LzAAP1"
   },
   "outputs": [
    {
     "data": {
      "image/png": "[encoded data removed]",
      "text/plain": [
       "<Figure size 1080x288 with 2 Axes>"
      ]
     },
     "metadata": {
      "needs_background": "light"
     },
     "output_type": "display_data"
    }
   ],
   "source": [
    " plot(history)"
   ]
  },
  {
   "cell_type": "markdown",
   "metadata": {},
   "source": [
    "### Model 4 Output says:\n",
    "- categorical_accuracy: 0.9052  \n",
    "- val_categorical_accuracy: 0.1917\n",
    "\n",
    "Model is early stopping as accuracy is not increasing with each consistnet epoch."
   ]
  },
  {
   "cell_type": "markdown",
   "metadata": {
    "id": "TcoKkxjXAAP2"
   },
   "source": [
    "### 5th Model: Conv 2D and LSTM\n",
    "### here Batch_size=40, No of epoch = 40"
   ]
  },
  {
   "cell_type": "code",
   "execution_count": 24,
   "metadata": {
    "id": "dVY_B7KiAAP2"
   },
   "outputs": [],
   "source": [
    "model = Sequential()\n",
    "model.add(TimeDistributed(Conv2D(32, (3,3), activation='relu'), input_shape=input_shape))\n",
    "model.add(TimeDistributed(MaxPooling2D((2,2))))\n",
    "model.add(BatchNormalization())\n",
    "model.add(Dropout(0.2))\n",
    "\n",
    "model.add(TimeDistributed(Conv2D(64, (3,3), activation='relu')))\n",
    "model.add(TimeDistributed(MaxPooling2D((2,2))))\n",
    "model.add(BatchNormalization())\n",
    "model.add(Dropout(0.2))\n",
    "\n",
    "model.add(TimeDistributed(GlobalAveragePooling2D()))\n",
    "model.add(TimeDistributed(Dense(64, activation='relu')))\n",
    "model.add(BatchNormalization())\n",
    "model.add(Dropout(0.2))\n",
    "\n",
    "model.add(LSTM(128))\n",
    "model.add(BatchNormalization())\n",
    "model.add(Dense(5, activation='softmax'))"
   ]
  },
  {
   "cell_type": "code",
   "execution_count": 25,
   "metadata": {
    "id": "1tOEtt3-hbi-"
   },
   "outputs": [
    {
     "name": "stdout",
     "output_type": "stream",
     "text": [
      "Model: \"sequential_4\"\n",
      "_________________________________________________________________\n",
      " Layer (type)                Output Shape              Param #   \n",
      "=================================================================\n",
      " time_distributed (TimeDistr  (None, 16, 118, 118, 32)  896      \n",
      " ibuted)                                                         \n",
      "                                                                 \n",
      " time_distributed_1 (TimeDis  (None, 16, 59, 59, 32)   0         \n",
      " tributed)                                                       \n",
      "                                                                 \n",
      " batch_normalization_14 (Bat  (None, 16, 59, 59, 32)   128       \n",
      " chNormalization)                                                \n",
      "                                                                 \n",
      " dropout_7 (Dropout)         (None, 16, 59, 59, 32)    0         \n",
      "                                                                 \n",
      " time_distributed_2 (TimeDis  (None, 16, 57, 57, 64)   18496     \n",
      " tributed)                                                       \n",
      "                                                                 \n",
      " time_distributed_3 (TimeDis  (None, 16, 28, 28, 64)   0         \n",
      " tributed)                                                       \n",
      "                                                                 \n",
      " batch_normalization_15 (Bat  (None, 16, 28, 28, 64)   256       \n",
      " chNormalization)                                                \n",
      "                                                                 \n",
      " dropout_8 (Dropout)         (None, 16, 28, 28, 64)    0         \n",
      "                                                                 \n",
      " time_distributed_4 (TimeDis  (None, 16, 64)           0         \n",
      " tributed)                                                       \n",
      "                                                                 \n",
      " time_distributed_5 (TimeDis  (None, 16, 64)           4160      \n",
      " tributed)                                                       \n",
      "                                                                 \n",
      " batch_normalization_16 (Bat  (None, 16, 64)           256       \n",
      " chNormalization)                                                \n",
      "                                                                 \n",
      " dropout_9 (Dropout)         (None, 16, 64)            0         \n",
      "                                                                 \n",
      " lstm (LSTM)                 (None, 128)               98816     \n",
      "                                                                 \n",
      " batch_normalization_17 (Bat  (None, 128)              512       \n",
      " chNormalization)                                                \n",
      "                                                                 \n",
      " dense_9 (Dense)             (None, 5)                 645       \n",
      "                                                                 \n",
      "=================================================================\n",
      "Total params: 124,165\n",
      "Trainable params: 123,589\n",
      "Non-trainable params: 576\n",
      "_________________________________________________________________\n",
      "None\n"
     ]
    }
   ],
   "source": [
    "num_epochs = 40              # choose the number of epochs\n",
    "\n",
    "model_name = 'model_init' + '_' + str(curr_dt_time).replace(' ','').replace(':','_') + '/'\n",
    "    \n",
    "if not os.path.exists(model_name):\n",
    "    os.mkdir(model_name)\n",
    "        \n",
    "filepath = model_name + 'model-{epoch:05d}-{loss:.5f}-{categorical_accuracy:.5f}-{val_loss:.5f}-{val_categorical_accuracy:.5f}.h5'\n",
    "\n",
    "checkpoint = ModelCheckpoint(filepath, monitor='val_loss', verbose=1, save_best_only=False, save_weights_only=False, mode='auto', save_freq='epoch')\n",
    "\n",
    "LR =ReduceLROnPlateau(monitor='val_loss', factor=0.2, verbose=1, patience=4) # write the REducelronplateau code here\n",
    "earlystop = EarlyStopping( monitor=\"val_categorical_accuracy\",mode='max',patience=10,verbose=1)\n",
    "callbacks_list = [checkpoint, LR, earlystop]\n",
    "\n",
    "optimiser =tf.keras.optimizers.Adam() #write your optimizer\n",
    "model.compile(optimizer=optimiser, loss='categorical_crossentropy', metrics=['categorical_accuracy'])\n",
    "print (model.summary()) "
   ]
  },
  {
   "cell_type": "code",
   "execution_count": 27,
   "metadata": {
    "id": "B_mKuNNLAAP2"
   },
   "outputs": [
    {
     "name": "stdout",
     "output_type": "stream",
     "text": [
      "Epoch 1/40\n",
      "17/17 [==============================] - ETA: 0s - loss: 1.4042 - categorical_accuracy: 0.4373\n",
      "Epoch 00001: saving model to model_init_2022-06-1501_54_49.039378/model-00001-1.40418-0.43732-1.33804-0.10833.h5\n",
      "17/17 [==============================] - 66s 4s/step - loss: 1.4042 - categorical_accuracy: 0.4373 - val_loss: 1.3380 - val_categorical_accuracy: 0.1083 - lr: 0.0010\n",
      "Epoch 2/40\n",
      "17/17 [==============================] - ETA: 0s - loss: 1.0463 - categorical_accuracy: 0.5481\n",
      "Epoch 00002: saving model to model_init_2022-06-1501_54_49.039378/model-00002-1.04627-0.54810-1.33500-0.17500.h5\n",
      "17/17 [==============================] - 66s 4s/step - loss: 1.0463 - categorical_accuracy: 0.5481 - val_loss: 1.3350 - val_categorical_accuracy: 0.1750 - lr: 0.0010\n",
      "Epoch 3/40\n",
      "17/17 [==============================] - ETA: 0s - loss: 0.9385 - categorical_accuracy: 0.5948\n",
      "Epoch 00003: saving model to model_init_2022-06-1501_54_49.039378/model-00003-0.93853-0.59475-1.33474-0.19167.h5\n",
      "17/17 [==============================] - 65s 4s/step - loss: 0.9385 - categorical_accuracy: 0.5948 - val_loss: 1.3347 - val_categorical_accuracy: 0.1917 - lr: 0.0010\n",
      "Epoch 4/40\n",
      "17/17 [==============================] - ETA: 0s - loss: 0.7955 - categorical_accuracy: 0.6487\n",
      "Epoch 00004: saving model to model_init_2022-06-1501_54_49.039378/model-00004-0.79553-0.64869-1.33321-0.24167.h5\n",
      "17/17 [==============================] - 62s 4s/step - loss: 0.7955 - categorical_accuracy: 0.6487 - val_loss: 1.3332 - val_categorical_accuracy: 0.2417 - lr: 0.0010\n",
      "Epoch 5/40\n",
      "17/17 [==============================] - ETA: 0s - loss: 0.7479 - categorical_accuracy: 0.6720\n",
      "Epoch 00005: saving model to model_init_2022-06-1501_54_49.039378/model-00005-0.74792-0.67201-1.35915-0.14167.h5\n",
      "17/17 [==============================] - 65s 4s/step - loss: 0.7479 - categorical_accuracy: 0.6720 - val_loss: 1.3591 - val_categorical_accuracy: 0.1417 - lr: 0.0010\n",
      "Epoch 6/40\n",
      "17/17 [==============================] - ETA: 0s - loss: 0.6517 - categorical_accuracy: 0.7041\n",
      "Epoch 00006: saving model to model_init_2022-06-1501_54_49.039378/model-00006-0.65168-0.70408-1.36231-0.10833.h5\n",
      "17/17 [==============================] - 63s 4s/step - loss: 0.6517 - categorical_accuracy: 0.7041 - val_loss: 1.3623 - val_categorical_accuracy: 0.1083 - lr: 0.0010\n",
      "Epoch 7/40\n",
      "17/17 [==============================] - ETA: 0s - loss: 0.5739 - categorical_accuracy: 0.7566\n",
      "Epoch 00007: saving model to model_init_2022-06-1501_54_49.039378/model-00007-0.57386-0.75656-1.40256-0.15000.h5\n",
      "17/17 [==============================] - 62s 4s/step - loss: 0.5739 - categorical_accuracy: 0.7566 - val_loss: 1.4026 - val_categorical_accuracy: 0.1500 - lr: 0.0010\n",
      "Epoch 8/40\n",
      "17/17 [==============================] - ETA: 0s - loss: 0.5562 - categorical_accuracy: 0.7741\n",
      "Epoch 00008: saving model to model_init_2022-06-1501_54_49.039378/model-00008-0.55618-0.77405-1.45456-0.13333.h5\n",
      "\n",
      "Epoch 00008: ReduceLROnPlateau reducing learning rate to 0.00020000000949949026.\n",
      "17/17 [==============================] - 65s 4s/step - loss: 0.5562 - categorical_accuracy: 0.7741 - val_loss: 1.4546 - val_categorical_accuracy: 0.1333 - lr: 0.0010\n",
      "Epoch 9/40\n",
      "17/17 [==============================] - ETA: 0s - loss: 0.4873 - categorical_accuracy: 0.7784\n",
      "Epoch 00009: saving model to model_init_2022-06-1501_54_49.039378/model-00009-0.48728-0.77843-1.50196-0.13333.h5\n",
      "17/17 [==============================] - 65s 4s/step - loss: 0.4873 - categorical_accuracy: 0.7784 - val_loss: 1.5020 - val_categorical_accuracy: 0.1333 - lr: 2.0000e-04\n",
      "Epoch 10/40\n",
      "17/17 [==============================] - ETA: 0s - loss: 0.3986 - categorical_accuracy: 0.8440\n",
      "Epoch 00010: saving model to model_init_2022-06-1501_54_49.039378/model-00010-0.39855-0.84402-1.53942-0.13333.h5\n",
      "17/17 [==============================] - 62s 4s/step - loss: 0.3986 - categorical_accuracy: 0.8440 - val_loss: 1.5394 - val_categorical_accuracy: 0.1333 - lr: 2.0000e-04\n",
      "Epoch 11/40\n",
      "17/17 [==============================] - ETA: 0s - loss: 0.3900 - categorical_accuracy: 0.8309\n",
      "Epoch 00011: saving model to model_init_2022-06-1501_54_49.039378/model-00011-0.39004-0.83090-1.54945-0.13333.h5\n",
      "17/17 [==============================] - 64s 4s/step - loss: 0.3900 - categorical_accuracy: 0.8309 - val_loss: 1.5494 - val_categorical_accuracy: 0.1333 - lr: 2.0000e-04\n",
      "Epoch 12/40\n",
      "17/17 [==============================] - ETA: 0s - loss: 0.3788 - categorical_accuracy: 0.8309\n",
      "Epoch 00012: saving model to model_init_2022-06-1501_54_49.039378/model-00012-0.37878-0.83090-1.54784-0.11667.h5\n",
      "\n",
      "Epoch 00012: ReduceLROnPlateau reducing learning rate to 4.0000001899898055e-05.\n",
      "17/17 [==============================] - 63s 4s/step - loss: 0.3788 - categorical_accuracy: 0.8309 - val_loss: 1.5478 - val_categorical_accuracy: 0.1167 - lr: 2.0000e-04\n",
      "Epoch 13/40\n",
      "17/17 [==============================] - ETA: 0s - loss: 0.3440 - categorical_accuracy: 0.8615\n",
      "Epoch 00013: saving model to model_init_2022-06-1501_54_49.039378/model-00013-0.34403-0.86152-1.66765-0.14167.h5\n",
      "17/17 [==============================] - 63s 4s/step - loss: 0.3440 - categorical_accuracy: 0.8615 - val_loss: 1.6676 - val_categorical_accuracy: 0.1417 - lr: 4.0000e-05\n",
      "Epoch 14/40\n",
      "17/17 [==============================] - ETA: 0s - loss: 0.3419 - categorical_accuracy: 0.8455\n",
      "Epoch 00014: saving model to model_init_2022-06-1501_54_49.039378/model-00014-0.34186-0.84548-1.67107-0.15000.h5\n",
      "17/17 [==============================] - 65s 4s/step - loss: 0.3419 - categorical_accuracy: 0.8455 - val_loss: 1.6711 - val_categorical_accuracy: 0.1500 - lr: 4.0000e-05\n",
      "Epoch 00014: early stopping\n"
     ]
    }
   ],
   "source": [
    " history=model.fit(train_generator, steps_per_epoch=steps_per_epoch, epochs=num_epochs, verbose=1, \n",
    "                    callbacks=callbacks_list, validation_data=val_generator, \n",
    "                    validation_steps=validation_steps, class_weight=None, workers=1, initial_epoch=0)"
   ]
  },
  {
   "cell_type": "code",
   "execution_count": 28,
   "metadata": {
    "id": "vyxBpsGMAAP3"
   },
   "outputs": [
    {
     "data": {
      "image/png": "[encoded data removed]",
      "text/plain": [
       "<Figure size 1080x288 with 2 Axes>"
      ]
     },
     "metadata": {
      "needs_background": "light"
     },
     "output_type": "display_data"
    }
   ],
   "source": [
    "plot(history)"
   ]
  },
  {
   "cell_type": "markdown",
   "metadata": {},
   "source": [
    "### Model 5 Output says:\n",
    "- categorical_accuracy: 0.8455  \n",
    "- val_categorical_accuracy: 0.1500\n",
    "\n",
    "Model is early stopping as accuracy is not increasing with each consistnet epoch."
   ]
  },
  {
   "cell_type": "markdown",
   "metadata": {
    "id": "GgzywbamAAP3"
   },
   "source": [
    "### 6th Model: Conv2D + GRU\n",
    "### here Batch_size = 40, No of epoch = 40"
   ]
  },
  {
   "cell_type": "code",
   "execution_count": 29,
   "metadata": {
    "id": "k_SCW-lKAAP4"
   },
   "outputs": [],
   "source": [
    " model = Sequential()\n",
    " model.add(TimeDistributed(Conv2D(32, (3,3), activation='relu'), input_shape=input_shape))\n",
    " model.add(TimeDistributed(MaxPooling2D((2,2))))\n",
    " model.add(BatchNormalization())\n",
    " model.add(Dropout(0.2))\n",
    "\n",
    " model.add(TimeDistributed(Conv2D(64, (3,3), activation='relu')))\n",
    " model.add(TimeDistributed(MaxPooling2D((2,2))))\n",
    " model.add(BatchNormalization())\n",
    " model.add(Dropout(0.2))\n",
    "\n",
    " model.add(TimeDistributed(GlobalAveragePooling2D()))\n",
    " model.add(TimeDistributed(Dense(64, activation='relu')))\n",
    " model.add(BatchNormalization())\n",
    " model.add(Dropout(0.2))\n",
    "\n",
    " model.add(GRU(128))\n",
    " model.add(BatchNormalization())\n",
    " model.add(Dense(5, activation='softmax'))"
   ]
  },
  {
   "cell_type": "code",
   "execution_count": 30,
   "metadata": {
    "id": "gk_OFqcch4N0"
   },
   "outputs": [
    {
     "name": "stdout",
     "output_type": "stream",
     "text": [
      "Model: \"sequential_5\"\n",
      "_________________________________________________________________\n",
      " Layer (type)                Output Shape              Param #   \n",
      "=================================================================\n",
      " time_distributed_6 (TimeDis  (None, 16, 118, 118, 32)  896      \n",
      " tributed)                                                       \n",
      "                                                                 \n",
      " time_distributed_7 (TimeDis  (None, 16, 59, 59, 32)   0         \n",
      " tributed)                                                       \n",
      "                                                                 \n",
      " batch_normalization_18 (Bat  (None, 16, 59, 59, 32)   128       \n",
      " chNormalization)                                                \n",
      "                                                                 \n",
      " dropout_10 (Dropout)        (None, 16, 59, 59, 32)    0         \n",
      "                                                                 \n",
      " time_distributed_8 (TimeDis  (None, 16, 57, 57, 64)   18496     \n",
      " tributed)                                                       \n",
      "                                                                 \n",
      " time_distributed_9 (TimeDis  (None, 16, 28, 28, 64)   0         \n",
      " tributed)                                                       \n",
      "                                                                 \n",
      " batch_normalization_19 (Bat  (None, 16, 28, 28, 64)   256       \n",
      " chNormalization)                                                \n",
      "                                                                 \n",
      " dropout_11 (Dropout)        (None, 16, 28, 28, 64)    0         \n",
      "                                                                 \n",
      " time_distributed_10 (TimeDi  (None, 16, 64)           0         \n",
      " stributed)                                                      \n",
      "                                                                 \n",
      " time_distributed_11 (TimeDi  (None, 16, 64)           4160      \n",
      " stributed)                                                      \n",
      "                                                                 \n",
      " batch_normalization_20 (Bat  (None, 16, 64)           256       \n",
      " chNormalization)                                                \n",
      "                                                                 \n",
      " dropout_12 (Dropout)        (None, 16, 64)            0         \n",
      "                                                                 \n",
      " gru (GRU)                   (None, 128)               74496     \n",
      "                                                                 \n",
      " batch_normalization_21 (Bat  (None, 128)              512       \n",
      " chNormalization)                                                \n",
      "                                                                 \n",
      " dense_11 (Dense)            (None, 5)                 645       \n",
      "                                                                 \n",
      "=================================================================\n",
      "Total params: 99,845\n",
      "Trainable params: 99,269\n",
      "Non-trainable params: 576\n",
      "_________________________________________________________________\n",
      "None\n"
     ]
    }
   ],
   "source": [
    "num_epochs = 40              # choose the number of epochs\n",
    "\n",
    "model_name = 'model_init' + '_' + str(curr_dt_time).replace(' ','').replace(':','_') + '/'\n",
    "    \n",
    "if not os.path.exists(model_name):\n",
    "    os.mkdir(model_name)\n",
    "        \n",
    "filepath = model_name + 'model-{epoch:05d}-{loss:.5f}-{categorical_accuracy:.5f}-{val_loss:.5f}-{val_categorical_accuracy:.5f}.h5'\n",
    "\n",
    "checkpoint = ModelCheckpoint(filepath, monitor='val_loss', verbose=1, save_best_only=False, save_weights_only=False, mode='auto', save_freq='epoch')\n",
    "\n",
    "LR =ReduceLROnPlateau(monitor='val_loss', factor=0.2, verbose=1, patience=4) # write the REducelronplateau code here\n",
    "earlystop = EarlyStopping( monitor=\"val_loss\", min_delta=0,patience=10,verbose=1)\n",
    "callbacks_list = [checkpoint, LR, earlystop]\n",
    "\n",
    "optimiser =tf.keras.optimizers.Adam() #write your optimizer\n",
    "model.compile(optimizer=optimiser, loss='categorical_crossentropy', metrics=['categorical_accuracy'])\n",
    "print (model.summary()) "
   ]
  },
  {
   "cell_type": "code",
   "execution_count": 31,
   "metadata": {
    "id": "hlWZ-xVcAAP4",
    "scrolled": false
   },
   "outputs": [
    {
     "name": "stdout",
     "output_type": "stream",
     "text": [
      "Epoch 1/40\n",
      "17/17 [==============================] - ETA: 0s - loss: 1.3736 - categorical_accuracy: 0.4082\n",
      "Epoch 00001: saving model to model_init_2022-06-1501_54_49.039378/model-00001-1.37361-0.40816-1.33788-0.12500.h5\n",
      "17/17 [==============================] - 68s 4s/step - loss: 1.3736 - categorical_accuracy: 0.4082 - val_loss: 1.3379 - val_categorical_accuracy: 0.1250 - lr: 0.0010\n",
      "Epoch 2/40\n",
      "17/17 [==============================] - ETA: 0s - loss: 1.0691 - categorical_accuracy: 0.4825\n",
      "Epoch 00002: saving model to model_init_2022-06-1501_54_49.039378/model-00002-1.06910-0.48251-1.32660-0.15833.h5\n",
      "17/17 [==============================] - 62s 4s/step - loss: 1.0691 - categorical_accuracy: 0.4825 - val_loss: 1.3266 - val_categorical_accuracy: 0.1583 - lr: 0.0010\n",
      "Epoch 3/40\n",
      "17/17 [==============================] - ETA: 0s - loss: 0.9157 - categorical_accuracy: 0.6108\n",
      "Epoch 00003: saving model to model_init_2022-06-1501_54_49.039378/model-00003-0.91572-0.61079-1.32375-0.16667.h5\n",
      "17/17 [==============================] - 65s 4s/step - loss: 0.9157 - categorical_accuracy: 0.6108 - val_loss: 1.3237 - val_categorical_accuracy: 0.1667 - lr: 0.0010\n",
      "Epoch 4/40\n",
      "17/17 [==============================] - ETA: 0s - loss: 0.7799 - categorical_accuracy: 0.6589\n",
      "Epoch 00004: saving model to model_init_2022-06-1501_54_49.039378/model-00004-0.77987-0.65889-1.31142-0.29167.h5\n",
      "17/17 [==============================] - 65s 4s/step - loss: 0.7799 - categorical_accuracy: 0.6589 - val_loss: 1.3114 - val_categorical_accuracy: 0.2917 - lr: 0.0010\n",
      "Epoch 5/40\n",
      "17/17 [==============================] - ETA: 0s - loss: 0.6887 - categorical_accuracy: 0.6953\n",
      "Epoch 00005: saving model to model_init_2022-06-1501_54_49.039378/model-00005-0.68865-0.69534-1.31847-0.20000.h5\n",
      "17/17 [==============================] - 60s 4s/step - loss: 0.6887 - categorical_accuracy: 0.6953 - val_loss: 1.3185 - val_categorical_accuracy: 0.2000 - lr: 0.0010\n",
      "Epoch 6/40\n",
      "17/17 [==============================] - ETA: 0s - loss: 0.6457 - categorical_accuracy: 0.6997\n",
      "Epoch 00006: saving model to model_init_2022-06-1501_54_49.039378/model-00006-0.64574-0.69971-1.34485-0.18333.h5\n",
      "17/17 [==============================] - 68s 4s/step - loss: 0.6457 - categorical_accuracy: 0.6997 - val_loss: 1.3448 - val_categorical_accuracy: 0.1833 - lr: 0.0010\n",
      "Epoch 7/40\n",
      "17/17 [==============================] - ETA: 0s - loss: 0.6389 - categorical_accuracy: 0.7085\n",
      "Epoch 00007: saving model to model_init_2022-06-1501_54_49.039378/model-00007-0.63892-0.70845-1.31558-0.17500.h5\n",
      "17/17 [==============================] - 67s 4s/step - loss: 0.6389 - categorical_accuracy: 0.7085 - val_loss: 1.3156 - val_categorical_accuracy: 0.1750 - lr: 0.0010\n",
      "Epoch 8/40\n",
      "17/17 [==============================] - ETA: 0s - loss: 0.5510 - categorical_accuracy: 0.7609\n",
      "Epoch 00008: saving model to model_init_2022-06-1501_54_49.039378/model-00008-0.55101-0.76093-1.37008-0.23333.h5\n",
      "\n",
      "Epoch 00008: ReduceLROnPlateau reducing learning rate to 0.00020000000949949026.\n",
      "17/17 [==============================] - 64s 4s/step - loss: 0.5510 - categorical_accuracy: 0.7609 - val_loss: 1.3701 - val_categorical_accuracy: 0.2333 - lr: 0.0010\n",
      "Epoch 9/40\n",
      "17/17 [==============================] - ETA: 0s - loss: 0.5037 - categorical_accuracy: 0.7624\n",
      "Epoch 00009: saving model to model_init_2022-06-1501_54_49.039378/model-00009-0.50368-0.76239-1.37673-0.19167.h5\n",
      "17/17 [==============================] - 68s 4s/step - loss: 0.5037 - categorical_accuracy: 0.7624 - val_loss: 1.3767 - val_categorical_accuracy: 0.1917 - lr: 2.0000e-04\n",
      "Epoch 10/40\n",
      "17/17 [==============================] - ETA: 0s - loss: 0.4385 - categorical_accuracy: 0.8207\n",
      "Epoch 00010: saving model to model_init_2022-06-1501_54_49.039378/model-00010-0.43851-0.82070-1.40796-0.26667.h5\n",
      "17/17 [==============================] - 68s 4s/step - loss: 0.4385 - categorical_accuracy: 0.8207 - val_loss: 1.4080 - val_categorical_accuracy: 0.2667 - lr: 2.0000e-04\n",
      "Epoch 11/40\n",
      "17/17 [==============================] - ETA: 0s - loss: 0.4256 - categorical_accuracy: 0.8134\n",
      "Epoch 00011: saving model to model_init_2022-06-1501_54_49.039378/model-00011-0.42558-0.81341-1.40779-0.28333.h5\n",
      "17/17 [==============================] - 64s 4s/step - loss: 0.4256 - categorical_accuracy: 0.8134 - val_loss: 1.4078 - val_categorical_accuracy: 0.2833 - lr: 2.0000e-04\n",
      "Epoch 12/40\n",
      "17/17 [==============================] - ETA: 0s - loss: 0.4088 - categorical_accuracy: 0.8251\n",
      "Epoch 00012: saving model to model_init_2022-06-1501_54_49.039378/model-00012-0.40875-0.82507-1.39957-0.22500.h5\n",
      "\n",
      "Epoch 00012: ReduceLROnPlateau reducing learning rate to 4.0000001899898055e-05.\n",
      "17/17 [==============================] - 68s 4s/step - loss: 0.4088 - categorical_accuracy: 0.8251 - val_loss: 1.3996 - val_categorical_accuracy: 0.2250 - lr: 2.0000e-04\n",
      "Epoch 13/40\n",
      "17/17 [==============================] - ETA: 0s - loss: 0.4110 - categorical_accuracy: 0.8192\n",
      "Epoch 00013: saving model to model_init_2022-06-1501_54_49.039378/model-00013-0.41104-0.81924-1.40416-0.22500.h5\n",
      "17/17 [==============================] - 67s 4s/step - loss: 0.4110 - categorical_accuracy: 0.8192 - val_loss: 1.4042 - val_categorical_accuracy: 0.2250 - lr: 4.0000e-05\n",
      "Epoch 14/40\n",
      "17/17 [==============================] - ETA: 0s - loss: 0.3785 - categorical_accuracy: 0.8382\n",
      "Epoch 00014: saving model to model_init_2022-06-1501_54_49.039378/model-00014-0.37848-0.83819-1.30391-0.32500.h5\n",
      "17/17 [==============================] - 63s 4s/step - loss: 0.3785 - categorical_accuracy: 0.8382 - val_loss: 1.3039 - val_categorical_accuracy: 0.3250 - lr: 4.0000e-05\n",
      "Epoch 15/40\n",
      "17/17 [==============================] - ETA: 0s - loss: 0.4204 - categorical_accuracy: 0.8120\n",
      "Epoch 00015: saving model to model_init_2022-06-1501_54_49.039378/model-00015-0.42045-0.81195-1.33458-0.28333.h5\n",
      "17/17 [==============================] - 66s 4s/step - loss: 0.4204 - categorical_accuracy: 0.8120 - val_loss: 1.3346 - val_categorical_accuracy: 0.2833 - lr: 4.0000e-05\n",
      "Epoch 16/40\n",
      "17/17 [==============================] - ETA: 0s - loss: 0.3672 - categorical_accuracy: 0.8338\n",
      "Epoch 00016: saving model to model_init_2022-06-1501_54_49.039378/model-00016-0.36719-0.83382-1.24862-0.33333.h5\n",
      "17/17 [==============================] - 68s 4s/step - loss: 0.3672 - categorical_accuracy: 0.8338 - val_loss: 1.2486 - val_categorical_accuracy: 0.3333 - lr: 4.0000e-05\n",
      "Epoch 17/40\n",
      "17/17 [==============================] - ETA: 0s - loss: 0.3569 - categorical_accuracy: 0.8397\n",
      "Epoch 00017: saving model to model_init_2022-06-1501_54_49.039378/model-00017-0.35687-0.83965-1.27367-0.31667.h5\n",
      "17/17 [==============================] - 62s 4s/step - loss: 0.3569 - categorical_accuracy: 0.8397 - val_loss: 1.2737 - val_categorical_accuracy: 0.3167 - lr: 4.0000e-05\n",
      "Epoch 18/40\n",
      "17/17 [==============================] - ETA: 0s - loss: 0.3841 - categorical_accuracy: 0.8280\n",
      "Epoch 00018: saving model to model_init_2022-06-1501_54_49.039378/model-00018-0.38406-0.82799-1.20407-0.33333.h5\n",
      "17/17 [==============================] - 67s 4s/step - loss: 0.3841 - categorical_accuracy: 0.8280 - val_loss: 1.2041 - val_categorical_accuracy: 0.3333 - lr: 4.0000e-05\n",
      "Epoch 19/40\n",
      "17/17 [==============================] - ETA: 0s - loss: 0.3708 - categorical_accuracy: 0.8411\n",
      "Epoch 00019: saving model to model_init_2022-06-1501_54_49.039378/model-00019-0.37075-0.84111-1.20933-0.31667.h5\n",
      "17/17 [==============================] - 66s 4s/step - loss: 0.3708 - categorical_accuracy: 0.8411 - val_loss: 1.2093 - val_categorical_accuracy: 0.3167 - lr: 4.0000e-05\n",
      "Epoch 20/40\n",
      "17/17 [==============================] - ETA: 0s - loss: 0.3667 - categorical_accuracy: 0.8440\n",
      "Epoch 00020: saving model to model_init_2022-06-1501_54_49.039378/model-00020-0.36675-0.84402-1.07500-0.35000.h5\n",
      "17/17 [==============================] - 67s 4s/step - loss: 0.3667 - categorical_accuracy: 0.8440 - val_loss: 1.0750 - val_categorical_accuracy: 0.3500 - lr: 4.0000e-05\n",
      "Epoch 21/40\n",
      "17/17 [==============================] - ETA: 0s - loss: 0.3613 - categorical_accuracy: 0.8426\n",
      "Epoch 00021: saving model to model_init_2022-06-1501_54_49.039378/model-00021-0.36134-0.84257-1.08778-0.37500.h5\n",
      "17/17 [==============================] - 69s 4s/step - loss: 0.3613 - categorical_accuracy: 0.8426 - val_loss: 1.0878 - val_categorical_accuracy: 0.3750 - lr: 4.0000e-05\n",
      "Epoch 22/40\n",
      "17/17 [==============================] - ETA: 0s - loss: 0.3883 - categorical_accuracy: 0.8440\n",
      "Epoch 00022: saving model to model_init_2022-06-1501_54_49.039378/model-00022-0.38834-0.84402-1.02449-0.37500.h5\n",
      "17/17 [==============================] - 64s 4s/step - loss: 0.3883 - categorical_accuracy: 0.8440 - val_loss: 1.0245 - val_categorical_accuracy: 0.3750 - lr: 4.0000e-05\n",
      "Epoch 23/40\n",
      "17/17 [==============================] - ETA: 0s - loss: 0.3702 - categorical_accuracy: 0.8382\n",
      "Epoch 00023: saving model to model_init_2022-06-1501_54_49.039378/model-00023-0.37025-0.83819-1.06642-0.36667.h5\n",
      "17/17 [==============================] - 65s 4s/step - loss: 0.3702 - categorical_accuracy: 0.8382 - val_loss: 1.0664 - val_categorical_accuracy: 0.3667 - lr: 4.0000e-05\n",
      "Epoch 24/40\n",
      "17/17 [==============================] - ETA: 0s - loss: 0.3505 - categorical_accuracy: 0.8440\n",
      "Epoch 00024: saving model to model_init_2022-06-1501_54_49.039378/model-00024-0.35053-0.84402-1.02959-0.40833.h5\n",
      "17/17 [==============================] - 68s 4s/step - loss: 0.3505 - categorical_accuracy: 0.8440 - val_loss: 1.0296 - val_categorical_accuracy: 0.4083 - lr: 4.0000e-05\n",
      "Epoch 25/40\n",
      "17/17 [==============================] - ETA: 0s - loss: 0.3637 - categorical_accuracy: 0.8367\n",
      "Epoch 00025: saving model to model_init_2022-06-1501_54_49.039378/model-00025-0.36373-0.83673-1.05874-0.45833.h5\n",
      "17/17 [==============================] - 65s 4s/step - loss: 0.3637 - categorical_accuracy: 0.8367 - val_loss: 1.0587 - val_categorical_accuracy: 0.4583 - lr: 4.0000e-05\n",
      "Epoch 26/40\n",
      "17/17 [==============================] - ETA: 0s - loss: 0.3608 - categorical_accuracy: 0.8426\n",
      "Epoch 00026: saving model to model_init_2022-06-1501_54_49.039378/model-00026-0.36079-0.84257-1.02030-0.45833.h5\n",
      "17/17 [==============================] - 64s 4s/step - loss: 0.3608 - categorical_accuracy: 0.8426 - val_loss: 1.0203 - val_categorical_accuracy: 0.4583 - lr: 4.0000e-05\n",
      "Epoch 27/40\n",
      "17/17 [==============================] - ETA: 0s - loss: 0.3299 - categorical_accuracy: 0.8703\n",
      "Epoch 00027: saving model to model_init_2022-06-1501_54_49.039378/model-00027-0.32994-0.87026-1.00180-0.46667.h5\n",
      "17/17 [==============================] - 68s 4s/step - loss: 0.3299 - categorical_accuracy: 0.8703 - val_loss: 1.0018 - val_categorical_accuracy: 0.4667 - lr: 4.0000e-05\n",
      "Epoch 28/40\n",
      "17/17 [==============================] - ETA: 0s - loss: 0.3371 - categorical_accuracy: 0.8513\n",
      "Epoch 00028: saving model to model_init_2022-06-1501_54_49.039378/model-00028-0.33706-0.85131-0.96649-0.61667.h5\n",
      "17/17 [==============================] - 68s 4s/step - loss: 0.3371 - categorical_accuracy: 0.8513 - val_loss: 0.9665 - val_categorical_accuracy: 0.6167 - lr: 4.0000e-05\n",
      "Epoch 29/40\n",
      "17/17 [==============================] - ETA: 0s - loss: 0.3386 - categorical_accuracy: 0.8586\n",
      "Epoch 00029: saving model to model_init_2022-06-1501_54_49.039378/model-00029-0.33858-0.85860-0.97039-0.48333.h5\n",
      "17/17 [==============================] - 65s 4s/step - loss: 0.3386 - categorical_accuracy: 0.8586 - val_loss: 0.9704 - val_categorical_accuracy: 0.4833 - lr: 4.0000e-05\n",
      "Epoch 30/40\n",
      "17/17 [==============================] - ETA: 0s - loss: 0.3307 - categorical_accuracy: 0.8542\n",
      "Epoch 00030: saving model to model_init_2022-06-1501_54_49.039378/model-00030-0.33075-0.85423-0.96410-0.44167.h5\n",
      "17/17 [==============================] - 64s 4s/step - loss: 0.3307 - categorical_accuracy: 0.8542 - val_loss: 0.9641 - val_categorical_accuracy: 0.4417 - lr: 4.0000e-05\n",
      "Epoch 31/40\n",
      "17/17 [==============================] - ETA: 0s - loss: 0.3547 - categorical_accuracy: 0.8455\n",
      "Epoch 00031: saving model to model_init_2022-06-1501_54_49.039378/model-00031-0.35466-0.84548-0.90936-0.45833.h5\n",
      "17/17 [==============================] - 65s 4s/step - loss: 0.3547 - categorical_accuracy: 0.8455 - val_loss: 0.9094 - val_categorical_accuracy: 0.4583 - lr: 4.0000e-05\n",
      "Epoch 32/40\n",
      "17/17 [==============================] - ETA: 0s - loss: 0.3156 - categorical_accuracy: 0.8673\n",
      "Epoch 00032: saving model to model_init_2022-06-1501_54_49.039378/model-00032-0.31565-0.86735-0.98092-0.49167.h5\n",
      "17/17 [==============================] - 65s 4s/step - loss: 0.3156 - categorical_accuracy: 0.8673 - val_loss: 0.9809 - val_categorical_accuracy: 0.4917 - lr: 4.0000e-05\n",
      "Epoch 33/40\n",
      "17/17 [==============================] - ETA: 0s - loss: 0.3599 - categorical_accuracy: 0.8455\n",
      "Epoch 00033: saving model to model_init_2022-06-1501_54_49.039378/model-00033-0.35986-0.84548-0.92482-0.50833.h5\n",
      "17/17 [==============================] - 64s 4s/step - loss: 0.3599 - categorical_accuracy: 0.8455 - val_loss: 0.9248 - val_categorical_accuracy: 0.5083 - lr: 4.0000e-05\n",
      "Epoch 34/40\n",
      "17/17 [==============================] - ETA: 0s - loss: 0.3355 - categorical_accuracy: 0.8571\n",
      "Epoch 00034: saving model to model_init_2022-06-1501_54_49.039378/model-00034-0.33549-0.85714-0.81575-0.54167.h5\n",
      "17/17 [==============================] - 66s 4s/step - loss: 0.3355 - categorical_accuracy: 0.8571 - val_loss: 0.8157 - val_categorical_accuracy: 0.5417 - lr: 4.0000e-05\n",
      "Epoch 35/40\n",
      "17/17 [==============================] - ETA: 0s - loss: 0.3298 - categorical_accuracy: 0.8484\n",
      "Epoch 00035: saving model to model_init_2022-06-1501_54_49.039378/model-00035-0.32980-0.84840-1.01735-0.50000.h5\n",
      "17/17 [==============================] - 63s 4s/step - loss: 0.3298 - categorical_accuracy: 0.8484 - val_loss: 1.0173 - val_categorical_accuracy: 0.5000 - lr: 4.0000e-05\n",
      "Epoch 36/40\n",
      "17/17 [==============================] - ETA: 0s - loss: 0.3464 - categorical_accuracy: 0.8601\n",
      "Epoch 00036: saving model to model_init_2022-06-1501_54_49.039378/model-00036-0.34644-0.86006-0.88666-0.52500.h5\n",
      "17/17 [==============================] - 66s 4s/step - loss: 0.3464 - categorical_accuracy: 0.8601 - val_loss: 0.8867 - val_categorical_accuracy: 0.5250 - lr: 4.0000e-05\n",
      "Epoch 37/40\n",
      "17/17 [==============================] - ETA: 0s - loss: 0.3452 - categorical_accuracy: 0.8528\n",
      "Epoch 00037: saving model to model_init_2022-06-1501_54_49.039378/model-00037-0.34522-0.85277-0.78197-0.55000.h5\n",
      "17/17 [==============================] - 62s 4s/step - loss: 0.3452 - categorical_accuracy: 0.8528 - val_loss: 0.7820 - val_categorical_accuracy: 0.5500 - lr: 4.0000e-05\n",
      "Epoch 38/40\n",
      "17/17 [==============================] - ETA: 0s - loss: 0.3141 - categorical_accuracy: 0.8659\n",
      "Epoch 00038: saving model to model_init_2022-06-1501_54_49.039378/model-00038-0.31408-0.86589-0.80110-0.55833.h5\n",
      "17/17 [==============================] - 67s 4s/step - loss: 0.3141 - categorical_accuracy: 0.8659 - val_loss: 0.8011 - val_categorical_accuracy: 0.5583 - lr: 4.0000e-05\n",
      "Epoch 39/40\n",
      "17/17 [==============================] - ETA: 0s - loss: 0.3164 - categorical_accuracy: 0.8513\n",
      "Epoch 00039: saving model to model_init_2022-06-1501_54_49.039378/model-00039-0.31645-0.85131-0.84405-0.54167.h5\n",
      "17/17 [==============================] - 65s 4s/step - loss: 0.3164 - categorical_accuracy: 0.8513 - val_loss: 0.8441 - val_categorical_accuracy: 0.5417 - lr: 4.0000e-05\n",
      "Epoch 40/40\n",
      "17/17 [==============================] - ETA: 0s - loss: 0.3265 - categorical_accuracy: 0.8688\n",
      "Epoch 00040: saving model to model_init_2022-06-1501_54_49.039378/model-00040-0.32646-0.86880-0.80475-0.54167.h5\n",
      "17/17 [==============================] - 65s 4s/step - loss: 0.3265 - categorical_accuracy: 0.8688 - val_loss: 0.8047 - val_categorical_accuracy: 0.5417 - lr: 4.0000e-05\n"
     ]
    }
   ],
   "source": [
    " history=model.fit(train_generator, steps_per_epoch=steps_per_epoch, epochs=num_epochs, verbose=1, \n",
    "                    callbacks=callbacks_list, validation_data=val_generator, \n",
    "                    validation_steps=validation_steps, class_weight=None, workers=1, initial_epoch=0)"
   ]
  },
  {
   "cell_type": "code",
   "execution_count": 32,
   "metadata": {
    "id": "XAR5LVItAAP5"
   },
   "outputs": [
    {
     "data": {
      "image/png": "[encoded data removed]",
      "text/plain": [
       "<Figure size 1080x288 with 2 Axes>"
      ]
     },
     "metadata": {
      "needs_background": "light"
     },
     "output_type": "display_data"
    }
   ],
   "source": [
    " plot(history)"
   ]
  },
  {
   "cell_type": "markdown",
   "metadata": {},
   "source": [
    "### Model 6 Output says:\n",
    "- categorical_accuracy: 0.8688  \n",
    "- val_categorical_accuracy: 0.5417\n",
    "\n",
    "Model is overfit."
   ]
  },
  {
   "cell_type": "markdown",
   "metadata": {
    "id": "mMVyR1_pAAP5"
   },
   "source": [
    "### 7th Model: TransferLearning (VGG16) + LSTM\n",
    "### here Batch_size = 40, No of epoch = 30"
   ]
  },
  {
   "cell_type": "code",
   "execution_count": 33,
   "metadata": {
    "id": "2ZApMheVAAP5"
   },
   "outputs": [
    {
     "name": "stdout",
     "output_type": "stream",
     "text": [
      "Downloading data from https://storage.googleapis.com/tensorflow/keras-applications/vgg16/vgg16_weights_tf_dim_ordering_tf_kernels_notop.h5\n",
      "58892288/58889256 [==============================] - 1s 0us/step\n",
      "58900480/58889256 [==============================] - 1s 0us/step\n"
     ]
    }
   ],
   "source": [
    " from keras.applications.vgg16 import VGG16\n",
    " VGG16_transfer = tf.keras.applications.vgg16.VGG16(weights='imagenet', include_top=False)\n",
    " model = Sequential()\n",
    " model.add(TimeDistributed(VGG16_transfer,input_shape=input_shape))\n",
    " for layer in model.layers:\n",
    "     layer.trainable = False\n",
    "\n",
    " model.add(TimeDistributed(BatchNormalization()))\n",
    " model.add(TimeDistributed(MaxPooling2D((2, 2))))\n",
    " model.add(TimeDistributed(Flatten()))\n",
    " model.add(LSTM(128))\n",
    " model.add(Dropout(0.25))\n",
    " model.add(Dense(64,activation='relu'))\n",
    " model.add(Dropout(0.25))\n",
    "       \n",
    " model.add(Dense(5, activation='softmax'))"
   ]
  },
  {
   "cell_type": "code",
   "execution_count": 34,
   "metadata": {
    "id": "cIVABOjEiDmb"
   },
   "outputs": [
    {
     "name": "stdout",
     "output_type": "stream",
     "text": [
      "Model: \"sequential_6\"\n",
      "_________________________________________________________________\n",
      " Layer (type)                Output Shape              Param #   \n",
      "=================================================================\n",
      " time_distributed_12 (TimeDi  (None, 16, 3, 3, 512)    14714688  \n",
      " stributed)                                                      \n",
      "                                                                 \n",
      " time_distributed_13 (TimeDi  (None, 16, 3, 3, 512)    2048      \n",
      " stributed)                                                      \n",
      "                                                                 \n",
      " time_distributed_14 (TimeDi  (None, 16, 1, 1, 512)    0         \n",
      " stributed)                                                      \n",
      "                                                                 \n",
      " time_distributed_15 (TimeDi  (None, 16, 512)          0         \n",
      " stributed)                                                      \n",
      "                                                                 \n",
      " lstm_1 (LSTM)               (None, 128)               328192    \n",
      "                                                                 \n",
      " dropout_13 (Dropout)        (None, 128)               0         \n",
      "                                                                 \n",
      " dense_12 (Dense)            (None, 64)                8256      \n",
      "                                                                 \n",
      " dropout_14 (Dropout)        (None, 64)                0         \n",
      "                                                                 \n",
      " dense_13 (Dense)            (None, 5)                 325       \n",
      "                                                                 \n",
      "=================================================================\n",
      "Total params: 15,053,509\n",
      "Trainable params: 337,797\n",
      "Non-trainable params: 14,715,712\n",
      "_________________________________________________________________\n",
      "None\n"
     ]
    }
   ],
   "source": [
    "num_epochs = 30              # choose the number of epochs\n",
    "\n",
    "model_name = 'model_init' + '_' + str(curr_dt_time).replace(' ','').replace(':','_') + '/'\n",
    "    \n",
    "if not os.path.exists(model_name):\n",
    "    os.mkdir(model_name)\n",
    "        \n",
    "filepath = model_name + 'model-{epoch:05d}-{loss:.5f}-{categorical_accuracy:.5f}-{val_loss:.5f}-{val_categorical_accuracy:.5f}.h5'\n",
    "\n",
    "checkpoint = ModelCheckpoint(filepath, monitor='val_loss', verbose=1, save_best_only=False, save_weights_only=False, mode='auto', save_freq='epoch')\n",
    "\n",
    "LR =ReduceLROnPlateau(monitor='val_loss', factor=0.2, verbose=1, patience=4) # write the REducelronplateau code here\n",
    "earlystop = EarlyStopping( monitor=\"val_loss\", min_delta=0,patience=10,verbose=1)\n",
    "callbacks_list = [checkpoint, LR, earlystop]\n",
    "\n",
    "optimiser =tf.keras.optimizers.Adam() #write your optimizer\n",
    "model.compile(optimizer=optimiser, loss='categorical_crossentropy', metrics=['categorical_accuracy'])\n",
    "print (model.summary()) "
   ]
  },
  {
   "cell_type": "code",
   "execution_count": 35,
   "metadata": {
    "id": "6jaVtPr9AAP6",
    "scrolled": false
   },
   "outputs": [
    {
     "name": "stdout",
     "output_type": "stream",
     "text": [
      "Epoch 1/30\n",
      "17/17 [==============================] - ETA: 0s - loss: 1.4878 - categorical_accuracy: 0.3236\n",
      "Epoch 00001: saving model to model_init_2022-06-1501_54_49.039378/model-00001-1.48777-0.32362-1.20670-0.34167.h5\n",
      "17/17 [==============================] - 71s 4s/step - loss: 1.4878 - categorical_accuracy: 0.3236 - val_loss: 1.2067 - val_categorical_accuracy: 0.3417 - lr: 0.0010\n",
      "Epoch 2/30\n",
      "17/17 [==============================] - ETA: 0s - loss: 1.1312 - categorical_accuracy: 0.5394\n",
      "Epoch 00002: saving model to model_init_2022-06-1501_54_49.039378/model-00002-1.13123-0.53936-1.14033-0.38333.h5\n",
      "17/17 [==============================] - 67s 4s/step - loss: 1.1312 - categorical_accuracy: 0.5394 - val_loss: 1.1403 - val_categorical_accuracy: 0.3833 - lr: 0.0010\n",
      "Epoch 3/30\n",
      "17/17 [==============================] - ETA: 0s - loss: 0.8374 - categorical_accuracy: 0.6866\n",
      "Epoch 00003: saving model to model_init_2022-06-1501_54_49.039378/model-00003-0.83741-0.68659-0.98483-0.45000.h5\n",
      "17/17 [==============================] - 68s 4s/step - loss: 0.8374 - categorical_accuracy: 0.6866 - val_loss: 0.9848 - val_categorical_accuracy: 0.4500 - lr: 0.0010\n",
      "Epoch 4/30\n",
      "17/17 [==============================] - ETA: 0s - loss: 0.6060 - categorical_accuracy: 0.7930\n",
      "Epoch 00004: saving model to model_init_2022-06-1501_54_49.039378/model-00004-0.60601-0.79300-0.96243-0.45833.h5\n",
      "17/17 [==============================] - 68s 4s/step - loss: 0.6060 - categorical_accuracy: 0.7930 - val_loss: 0.9624 - val_categorical_accuracy: 0.4583 - lr: 0.0010\n",
      "Epoch 5/30\n",
      "17/17 [==============================] - ETA: 0s - loss: 0.4294 - categorical_accuracy: 0.8338\n",
      "Epoch 00005: saving model to model_init_2022-06-1501_54_49.039378/model-00005-0.42936-0.83382-0.95971-0.45000.h5\n",
      "17/17 [==============================] - 66s 4s/step - loss: 0.4294 - categorical_accuracy: 0.8338 - val_loss: 0.9597 - val_categorical_accuracy: 0.4500 - lr: 0.0010\n",
      "Epoch 6/30\n",
      "17/17 [==============================] - ETA: 0s - loss: 0.2693 - categorical_accuracy: 0.9169\n",
      "Epoch 00006: saving model to model_init_2022-06-1501_54_49.039378/model-00006-0.26932-0.91691-1.00163-0.48333.h5\n",
      "17/17 [==============================] - 68s 4s/step - loss: 0.2693 - categorical_accuracy: 0.9169 - val_loss: 1.0016 - val_categorical_accuracy: 0.4833 - lr: 0.0010\n",
      "Epoch 7/30\n",
      "17/17 [==============================] - ETA: 0s - loss: 0.1759 - categorical_accuracy: 0.9257\n",
      "Epoch 00007: saving model to model_init_2022-06-1501_54_49.039378/model-00007-0.17588-0.92566-1.04226-0.46667.h5\n",
      "17/17 [==============================] - 65s 4s/step - loss: 0.1759 - categorical_accuracy: 0.9257 - val_loss: 1.0423 - val_categorical_accuracy: 0.4667 - lr: 0.0010\n",
      "Epoch 8/30\n",
      "17/17 [==============================] - ETA: 0s - loss: 0.1019 - categorical_accuracy: 0.9534\n",
      "Epoch 00008: saving model to model_init_2022-06-1501_54_49.039378/model-00008-0.10188-0.95335-1.01717-0.50000.h5\n",
      "17/17 [==============================] - 68s 4s/step - loss: 0.1019 - categorical_accuracy: 0.9534 - val_loss: 1.0172 - val_categorical_accuracy: 0.5000 - lr: 0.0010\n",
      "Epoch 9/30\n",
      "17/17 [==============================] - ETA: 0s - loss: 0.0933 - categorical_accuracy: 0.9563\n",
      "Epoch 00009: saving model to model_init_2022-06-1501_54_49.039378/model-00009-0.09331-0.95627-1.09790-0.45000.h5\n",
      "\n",
      "Epoch 00009: ReduceLROnPlateau reducing learning rate to 0.00020000000949949026.\n",
      "17/17 [==============================] - 68s 4s/step - loss: 0.0933 - categorical_accuracy: 0.9563 - val_loss: 1.0979 - val_categorical_accuracy: 0.4500 - lr: 0.0010\n",
      "Epoch 10/30\n",
      "17/17 [==============================] - ETA: 0s - loss: 0.0585 - categorical_accuracy: 0.9708\n",
      "Epoch 00010: saving model to model_init_2022-06-1501_54_49.039378/model-00010-0.05850-0.97085-0.96040-0.53333.h5\n",
      "17/17 [==============================] - 63s 4s/step - loss: 0.0585 - categorical_accuracy: 0.9708 - val_loss: 0.9604 - val_categorical_accuracy: 0.5333 - lr: 2.0000e-04\n",
      "Epoch 11/30\n",
      "17/17 [==============================] - ETA: 0s - loss: 0.0511 - categorical_accuracy: 0.9723\n",
      "Epoch 00011: saving model to model_init_2022-06-1501_54_49.039378/model-00011-0.05105-0.97230-1.03039-0.50833.h5\n",
      "17/17 [==============================] - 67s 4s/step - loss: 0.0511 - categorical_accuracy: 0.9723 - val_loss: 1.0304 - val_categorical_accuracy: 0.5083 - lr: 2.0000e-04\n",
      "Epoch 12/30\n",
      "17/17 [==============================] - ETA: 0s - loss: 0.0468 - categorical_accuracy: 0.9679\n",
      "Epoch 00012: saving model to model_init_2022-06-1501_54_49.039378/model-00012-0.04683-0.96793-1.07930-0.50833.h5\n",
      "17/17 [==============================] - 67s 4s/step - loss: 0.0468 - categorical_accuracy: 0.9679 - val_loss: 1.0793 - val_categorical_accuracy: 0.5083 - lr: 2.0000e-04\n",
      "Epoch 13/30\n",
      "17/17 [==============================] - ETA: 0s - loss: 0.0381 - categorical_accuracy: 0.9665\n",
      "Epoch 00013: saving model to model_init_2022-06-1501_54_49.039378/model-00013-0.03805-0.96647-1.15939-0.50000.h5\n",
      "\n",
      "Epoch 00013: ReduceLROnPlateau reducing learning rate to 4.0000001899898055e-05.\n",
      "17/17 [==============================] - 66s 4s/step - loss: 0.0381 - categorical_accuracy: 0.9665 - val_loss: 1.1594 - val_categorical_accuracy: 0.5000 - lr: 2.0000e-04\n",
      "Epoch 14/30\n",
      "17/17 [==============================] - ETA: 0s - loss: 0.0392 - categorical_accuracy: 0.9679\n",
      "Epoch 00014: saving model to model_init_2022-06-1501_54_49.039378/model-00014-0.03917-0.96793-1.09575-0.50000.h5\n",
      "17/17 [==============================] - 65s 4s/step - loss: 0.0392 - categorical_accuracy: 0.9679 - val_loss: 1.0957 - val_categorical_accuracy: 0.5000 - lr: 4.0000e-05\n",
      "Epoch 15/30\n",
      "17/17 [==============================] - ETA: 0s - loss: 0.0359 - categorical_accuracy: 0.9679\n",
      "Epoch 00015: saving model to model_init_2022-06-1501_54_49.039378/model-00015-0.03586-0.96793-0.95336-0.52500.h5\n",
      "17/17 [==============================] - 67s 4s/step - loss: 0.0359 - categorical_accuracy: 0.9679 - val_loss: 0.9534 - val_categorical_accuracy: 0.5250 - lr: 4.0000e-05\n",
      "Epoch 16/30\n",
      "17/17 [==============================] - ETA: 0s - loss: 0.0370 - categorical_accuracy: 0.9679\n",
      "Epoch 00016: saving model to model_init_2022-06-1501_54_49.039378/model-00016-0.03696-0.96793-1.22631-0.45833.h5\n",
      "17/17 [==============================] - 67s 4s/step - loss: 0.0370 - categorical_accuracy: 0.9679 - val_loss: 1.2263 - val_categorical_accuracy: 0.4583 - lr: 4.0000e-05\n",
      "Epoch 17/30\n",
      "17/17 [==============================] - ETA: 0s - loss: 0.0464 - categorical_accuracy: 0.9679\n",
      "Epoch 00017: saving model to model_init_2022-06-1501_54_49.039378/model-00017-0.04637-0.96793-1.05023-0.50833.h5\n",
      "17/17 [==============================] - 67s 4s/step - loss: 0.0464 - categorical_accuracy: 0.9679 - val_loss: 1.0502 - val_categorical_accuracy: 0.5083 - lr: 4.0000e-05\n",
      "Epoch 18/30\n",
      "17/17 [==============================] - ETA: 0s - loss: 0.0382 - categorical_accuracy: 0.9738\n",
      "Epoch 00018: saving model to model_init_2022-06-1501_54_49.039378/model-00018-0.03816-0.97376-1.08544-0.49167.h5\n",
      "17/17 [==============================] - 66s 4s/step - loss: 0.0382 - categorical_accuracy: 0.9738 - val_loss: 1.0854 - val_categorical_accuracy: 0.4917 - lr: 4.0000e-05\n",
      "Epoch 19/30\n",
      "17/17 [==============================] - ETA: 0s - loss: 0.0264 - categorical_accuracy: 0.9694\n",
      "Epoch 00019: saving model to model_init_2022-06-1501_54_49.039378/model-00019-0.02643-0.96939-1.01754-0.54167.h5\n",
      "\n",
      "Epoch 00019: ReduceLROnPlateau reducing learning rate to 8.000000525498762e-06.\n",
      "17/17 [==============================] - 65s 4s/step - loss: 0.0264 - categorical_accuracy: 0.9694 - val_loss: 1.0175 - val_categorical_accuracy: 0.5417 - lr: 4.0000e-05\n",
      "Epoch 20/30\n",
      "17/17 [==============================] - ETA: 0s - loss: 0.0444 - categorical_accuracy: 0.9665\n",
      "Epoch 00020: saving model to model_init_2022-06-1501_54_49.039378/model-00020-0.04444-0.96647-1.02510-0.50000.h5\n",
      "17/17 [==============================] - 68s 4s/step - loss: 0.0444 - categorical_accuracy: 0.9665 - val_loss: 1.0251 - val_categorical_accuracy: 0.5000 - lr: 8.0000e-06\n",
      "Epoch 21/30\n",
      "17/17 [==============================] - ETA: 0s - loss: 0.0373 - categorical_accuracy: 0.9723\n",
      "Epoch 00021: saving model to model_init_2022-06-1501_54_49.039378/model-00021-0.03726-0.97230-0.93416-0.46667.h5\n",
      "17/17 [==============================] - 65s 4s/step - loss: 0.0373 - categorical_accuracy: 0.9723 - val_loss: 0.9342 - val_categorical_accuracy: 0.4667 - lr: 8.0000e-06\n",
      "Epoch 22/30\n",
      "17/17 [==============================] - ETA: 0s - loss: 0.0399 - categorical_accuracy: 0.9650\n",
      "Epoch 00022: saving model to model_init_2022-06-1501_54_49.039378/model-00022-0.03990-0.96501-1.03903-0.49167.h5\n",
      "17/17 [==============================] - 64s 4s/step - loss: 0.0399 - categorical_accuracy: 0.9650 - val_loss: 1.0390 - val_categorical_accuracy: 0.4917 - lr: 8.0000e-06\n",
      "Epoch 23/30\n",
      "17/17 [==============================] - ETA: 0s - loss: 0.0317 - categorical_accuracy: 0.9665\n",
      "Epoch 00023: saving model to model_init_2022-06-1501_54_49.039378/model-00023-0.03174-0.96647-1.00287-0.50000.h5\n",
      "17/17 [==============================] - 63s 4s/step - loss: 0.0317 - categorical_accuracy: 0.9665 - val_loss: 1.0029 - val_categorical_accuracy: 0.5000 - lr: 8.0000e-06\n",
      "Epoch 24/30\n",
      "17/17 [==============================] - ETA: 0s - loss: 0.0306 - categorical_accuracy: 0.9679\n",
      "Epoch 00024: saving model to model_init_2022-06-1501_54_49.039378/model-00024-0.03065-0.96793-1.10696-0.47500.h5\n",
      "17/17 [==============================] - 65s 4s/step - loss: 0.0306 - categorical_accuracy: 0.9679 - val_loss: 1.1070 - val_categorical_accuracy: 0.4750 - lr: 8.0000e-06\n",
      "Epoch 25/30\n",
      "17/17 [==============================] - ETA: 0s - loss: 0.0365 - categorical_accuracy: 0.9665\n",
      "Epoch 00025: saving model to model_init_2022-06-1501_54_49.039378/model-00025-0.03647-0.96647-0.93717-0.50833.h5\n",
      "\n",
      "Epoch 00025: ReduceLROnPlateau reducing learning rate to 1.6000001778593287e-06.\n",
      "17/17 [==============================] - 64s 4s/step - loss: 0.0365 - categorical_accuracy: 0.9665 - val_loss: 0.9372 - val_categorical_accuracy: 0.5083 - lr: 8.0000e-06\n",
      "Epoch 26/30\n",
      "17/17 [==============================] - ETA: 0s - loss: 0.0268 - categorical_accuracy: 0.9679\n",
      "Epoch 00026: saving model to model_init_2022-06-1501_54_49.039378/model-00026-0.02679-0.96793-0.99569-0.50000.h5\n",
      "17/17 [==============================] - 65s 4s/step - loss: 0.0268 - categorical_accuracy: 0.9679 - val_loss: 0.9957 - val_categorical_accuracy: 0.5000 - lr: 1.6000e-06\n",
      "Epoch 27/30\n",
      "17/17 [==============================] - ETA: 0s - loss: 0.0307 - categorical_accuracy: 0.9738\n",
      "Epoch 00027: saving model to model_init_2022-06-1501_54_49.039378/model-00027-0.03074-0.97376-0.89499-0.52500.h5\n",
      "17/17 [==============================] - 69s 4s/step - loss: 0.0307 - categorical_accuracy: 0.9738 - val_loss: 0.8950 - val_categorical_accuracy: 0.5250 - lr: 1.6000e-06\n",
      "Epoch 28/30\n",
      "17/17 [==============================] - ETA: 0s - loss: 0.0322 - categorical_accuracy: 0.9708\n",
      "Epoch 00028: saving model to model_init_2022-06-1501_54_49.039378/model-00028-0.03216-0.97085-1.07747-0.47500.h5\n",
      "17/17 [==============================] - 66s 4s/step - loss: 0.0322 - categorical_accuracy: 0.9708 - val_loss: 1.0775 - val_categorical_accuracy: 0.4750 - lr: 1.6000e-06\n",
      "Epoch 29/30\n",
      "17/17 [==============================] - ETA: 0s - loss: 0.0280 - categorical_accuracy: 0.9694\n",
      "Epoch 00029: saving model to model_init_2022-06-1501_54_49.039378/model-00029-0.02796-0.96939-0.99770-0.49167.h5\n",
      "17/17 [==============================] - 66s 4s/step - loss: 0.0280 - categorical_accuracy: 0.9694 - val_loss: 0.9977 - val_categorical_accuracy: 0.4917 - lr: 1.6000e-06\n",
      "Epoch 30/30\n",
      "17/17 [==============================] - ETA: 0s - loss: 0.0333 - categorical_accuracy: 0.9665\n",
      "Epoch 00030: saving model to model_init_2022-06-1501_54_49.039378/model-00030-0.03332-0.96647-0.98536-0.46667.h5\n",
      "17/17 [==============================] - 68s 4s/step - loss: 0.0333 - categorical_accuracy: 0.9665 - val_loss: 0.9854 - val_categorical_accuracy: 0.4667 - lr: 1.6000e-06\n"
     ]
    }
   ],
   "source": [
    "history=model.fit(train_generator, steps_per_epoch=steps_per_epoch, epochs=num_epochs, verbose=1, \n",
    "                    callbacks=callbacks_list, validation_data=val_generator, \n",
    "                    validation_steps=validation_steps, class_weight=None, workers=1, initial_epoch=0)"
   ]
  },
  {
   "cell_type": "code",
   "execution_count": 36,
   "metadata": {
    "id": "Gp9O7O1a8fIS"
   },
   "outputs": [
    {
     "data": {
      "image/png": "[encoded data removed]",
      "text/plain": [
       "<Figure size 1080x288 with 2 Axes>"
      ]
     },
     "metadata": {
      "needs_background": "light"
     },
     "output_type": "display_data"
    }
   ],
   "source": [
    "plot(history)"
   ]
  },
  {
   "cell_type": "markdown",
   "metadata": {},
   "source": [
    "### Model 7 Output says:\n",
    "- categorical_accuracy: 0.9665  \n",
    "- val_categorical_accuracy: 0.4667\n",
    "\n",
    "Model is overfit."
   ]
  },
  {
   "cell_type": "markdown",
   "metadata": {
    "id": "aDuRt7XAAAP6"
   },
   "source": [
    "### 8th Model: VGG16 + LSTM with BatchNormalization\n",
    "### here batch_size=40, No of epoch = 30"
   ]
  },
  {
   "cell_type": "code",
   "execution_count": 37,
   "metadata": {
    "id": "9zBkS93kAAP7"
   },
   "outputs": [],
   "source": [
    " from keras.applications.vgg16 import VGG16\n",
    " VGG16_transfer = tf.keras.applications.vgg16.VGG16(weights='imagenet', include_top=False)\n",
    " model = Sequential()\n",
    " model.add(TimeDistributed(VGG16_transfer,input_shape=input_shape))\n",
    " for layer in model.layers:\n",
    "     layer.trainable = False\n",
    "\n",
    " model.add(TimeDistributed(BatchNormalization()))\n",
    " model.add(TimeDistributed(MaxPooling2D((2, 2))))\n",
    " model.add(TimeDistributed(Flatten()))\n",
    " model.add(LSTM(128))\n",
    " model.add(BatchNormalization())\n",
    " model.add(Dense(64,activation='relu'))\n",
    " model.add(Dropout(0.25))\n",
    "        \n",
    " model.add(Dense(5, activation='softmax'))"
   ]
  },
  {
   "cell_type": "code",
   "execution_count": 38,
   "metadata": {
    "id": "UldOOy5ciMHD"
   },
   "outputs": [
    {
     "name": "stdout",
     "output_type": "stream",
     "text": [
      "Model: \"sequential_7\"\n",
      "_________________________________________________________________\n",
      " Layer (type)                Output Shape              Param #   \n",
      "=================================================================\n",
      " time_distributed_16 (TimeDi  (None, 16, 3, 3, 512)    14714688  \n",
      " stributed)                                                      \n",
      "                                                                 \n",
      " time_distributed_17 (TimeDi  (None, 16, 3, 3, 512)    2048      \n",
      " stributed)                                                      \n",
      "                                                                 \n",
      " time_distributed_18 (TimeDi  (None, 16, 1, 1, 512)    0         \n",
      " stributed)                                                      \n",
      "                                                                 \n",
      " time_distributed_19 (TimeDi  (None, 16, 512)          0         \n",
      " stributed)                                                      \n",
      "                                                                 \n",
      " lstm_2 (LSTM)               (None, 128)               328192    \n",
      "                                                                 \n",
      " batch_normalization_24 (Bat  (None, 128)              512       \n",
      " chNormalization)                                                \n",
      "                                                                 \n",
      " dense_14 (Dense)            (None, 64)                8256      \n",
      "                                                                 \n",
      " dropout_15 (Dropout)        (None, 64)                0         \n",
      "                                                                 \n",
      " dense_15 (Dense)            (None, 5)                 325       \n",
      "                                                                 \n",
      "=================================================================\n",
      "Total params: 15,054,021\n",
      "Trainable params: 338,053\n",
      "Non-trainable params: 14,715,968\n",
      "_________________________________________________________________\n",
      "None\n"
     ]
    }
   ],
   "source": [
    "num_epochs = 30              # choose the number of epochs\n",
    "\n",
    "model_name = 'model_init' + '_' + str(curr_dt_time).replace(' ','').replace(':','_') + '/'\n",
    "    \n",
    "if not os.path.exists(model_name):\n",
    "    os.mkdir(model_name)\n",
    "        \n",
    "filepath = model_name + 'model-{epoch:05d}-{loss:.5f}-{categorical_accuracy:.5f}-{val_loss:.5f}-{val_categorical_accuracy:.5f}.h5'\n",
    "\n",
    "checkpoint = ModelCheckpoint(filepath, monitor='val_loss', verbose=1, save_best_only=False, save_weights_only=False, mode='auto', save_freq='epoch')\n",
    "\n",
    "LR =ReduceLROnPlateau(monitor='val_loss', factor=0.2, verbose=1, patience=4) # write the REducelronplateau code here\n",
    "earlystop = EarlyStopping( monitor=\"val_loss\", min_delta=0,patience=10,verbose=1)\n",
    "callbacks_list = [checkpoint, LR, earlystop]\n",
    "\n",
    "optimiser =tf.keras.optimizers.Adam() #write your optimizer\n",
    "model.compile(optimizer=optimiser, loss='categorical_crossentropy', metrics=['categorical_accuracy'])\n",
    "print (model.summary()) "
   ]
  },
  {
   "cell_type": "code",
   "execution_count": 39,
   "metadata": {
    "id": "mBmohxaaAAP7",
    "scrolled": false
   },
   "outputs": [
    {
     "name": "stdout",
     "output_type": "stream",
     "text": [
      "Epoch 1/30\n",
      "17/17 [==============================] - ETA: 0s - loss: 1.5169 - categorical_accuracy: 0.3746\n",
      "Epoch 00001: saving model to model_init_2022-06-1501_54_49.039378/model-00001-1.51691-0.37464-1.27466-0.43333.h5\n",
      "17/17 [==============================] - 67s 4s/step - loss: 1.5169 - categorical_accuracy: 0.3746 - val_loss: 1.2747 - val_categorical_accuracy: 0.4333 - lr: 0.0010\n",
      "Epoch 2/30\n",
      "17/17 [==============================] - ETA: 0s - loss: 0.8374 - categorical_accuracy: 0.6647\n",
      "Epoch 00002: saving model to model_init_2022-06-1501_54_49.039378/model-00002-0.83738-0.66472-1.24693-0.43333.h5\n",
      "17/17 [==============================] - 68s 4s/step - loss: 0.8374 - categorical_accuracy: 0.6647 - val_loss: 1.2469 - val_categorical_accuracy: 0.4333 - lr: 0.0010\n",
      "Epoch 3/30\n",
      "17/17 [==============================] - ETA: 0s - loss: 0.5203 - categorical_accuracy: 0.8178\n",
      "Epoch 00003: saving model to model_init_2022-06-1501_54_49.039378/model-00003-0.52027-0.81778-1.16754-0.50833.h5\n",
      "17/17 [==============================] - 65s 4s/step - loss: 0.5203 - categorical_accuracy: 0.8178 - val_loss: 1.1675 - val_categorical_accuracy: 0.5083 - lr: 0.0010\n",
      "Epoch 4/30\n",
      "17/17 [==============================] - ETA: 0s - loss: 0.3145 - categorical_accuracy: 0.9169\n",
      "Epoch 00004: saving model to model_init_2022-06-1501_54_49.039378/model-00004-0.31449-0.91691-1.06899-0.54167.h5\n",
      "17/17 [==============================] - 66s 4s/step - loss: 0.3145 - categorical_accuracy: 0.9169 - val_loss: 1.0690 - val_categorical_accuracy: 0.5417 - lr: 0.0010\n",
      "Epoch 5/30\n",
      "17/17 [==============================] - ETA: 0s - loss: 0.2127 - categorical_accuracy: 0.9329\n",
      "Epoch 00005: saving model to model_init_2022-06-1501_54_49.039378/model-00005-0.21269-0.93294-0.97912-0.65000.h5\n",
      "17/17 [==============================] - 66s 4s/step - loss: 0.2127 - categorical_accuracy: 0.9329 - val_loss: 0.9791 - val_categorical_accuracy: 0.6500 - lr: 0.0010\n",
      "Epoch 6/30\n",
      "17/17 [==============================] - ETA: 0s - loss: 0.1386 - categorical_accuracy: 0.9519\n",
      "Epoch 00006: saving model to model_init_2022-06-1501_54_49.039378/model-00006-0.13865-0.95190-0.98384-0.40833.h5\n",
      "17/17 [==============================] - 67s 4s/step - loss: 0.1386 - categorical_accuracy: 0.9519 - val_loss: 0.9838 - val_categorical_accuracy: 0.4083 - lr: 0.0010\n",
      "Epoch 7/30\n",
      "17/17 [==============================] - ETA: 0s - loss: 0.1166 - categorical_accuracy: 0.9563\n",
      "Epoch 00007: saving model to model_init_2022-06-1501_54_49.039378/model-00007-0.11660-0.95627-0.94374-0.44167.h5\n",
      "17/17 [==============================] - 64s 4s/step - loss: 0.1166 - categorical_accuracy: 0.9563 - val_loss: 0.9437 - val_categorical_accuracy: 0.4417 - lr: 0.0010\n",
      "Epoch 8/30\n",
      "17/17 [==============================] - ETA: 0s - loss: 0.0927 - categorical_accuracy: 0.9636\n",
      "Epoch 00008: saving model to model_init_2022-06-1501_54_49.039378/model-00008-0.09266-0.96356-0.85101-0.49167.h5\n",
      "17/17 [==============================] - 69s 4s/step - loss: 0.0927 - categorical_accuracy: 0.9636 - val_loss: 0.8510 - val_categorical_accuracy: 0.4917 - lr: 0.0010\n",
      "Epoch 9/30\n",
      "17/17 [==============================] - ETA: 0s - loss: 0.0650 - categorical_accuracy: 0.9679\n",
      "Epoch 00009: saving model to model_init_2022-06-1501_54_49.039378/model-00009-0.06497-0.96793-0.85087-0.46667.h5\n",
      "17/17 [==============================] - 66s 4s/step - loss: 0.0650 - categorical_accuracy: 0.9679 - val_loss: 0.8509 - val_categorical_accuracy: 0.4667 - lr: 0.0010\n",
      "Epoch 10/30\n",
      "17/17 [==============================] - ETA: 0s - loss: 0.0587 - categorical_accuracy: 0.9636\n",
      "Epoch 00010: saving model to model_init_2022-06-1501_54_49.039378/model-00010-0.05874-0.96356-0.80126-0.47500.h5\n",
      "17/17 [==============================] - 64s 4s/step - loss: 0.0587 - categorical_accuracy: 0.9636 - val_loss: 0.8013 - val_categorical_accuracy: 0.4750 - lr: 0.0010\n",
      "Epoch 11/30\n",
      "17/17 [==============================] - ETA: 0s - loss: 0.0458 - categorical_accuracy: 0.9665\n",
      "Epoch 00011: saving model to model_init_2022-06-1501_54_49.039378/model-00011-0.04576-0.96647-0.74555-0.53333.h5\n",
      "17/17 [==============================] - 64s 4s/step - loss: 0.0458 - categorical_accuracy: 0.9665 - val_loss: 0.7455 - val_categorical_accuracy: 0.5333 - lr: 0.0010\n",
      "Epoch 12/30\n",
      "17/17 [==============================] - ETA: 0s - loss: 0.0461 - categorical_accuracy: 0.9606\n",
      "Epoch 00012: saving model to model_init_2022-06-1501_54_49.039378/model-00012-0.04612-0.96064-0.69682-0.58333.h5\n",
      "17/17 [==============================] - 63s 4s/step - loss: 0.0461 - categorical_accuracy: 0.9606 - val_loss: 0.6968 - val_categorical_accuracy: 0.5833 - lr: 0.0010\n",
      "Epoch 13/30\n",
      "17/17 [==============================] - ETA: 0s - loss: 0.0365 - categorical_accuracy: 0.9665\n",
      "Epoch 00013: saving model to model_init_2022-06-1501_54_49.039378/model-00013-0.03646-0.96647-0.74675-0.54167.h5\n",
      "17/17 [==============================] - 61s 4s/step - loss: 0.0365 - categorical_accuracy: 0.9665 - val_loss: 0.7468 - val_categorical_accuracy: 0.5417 - lr: 0.0010\n",
      "Epoch 14/30\n",
      "17/17 [==============================] - ETA: 0s - loss: 0.0311 - categorical_accuracy: 0.9694\n",
      "Epoch 00014: saving model to model_init_2022-06-1501_54_49.039378/model-00014-0.03111-0.96939-0.71381-0.54167.h5\n",
      "17/17 [==============================] - 64s 4s/step - loss: 0.0311 - categorical_accuracy: 0.9694 - val_loss: 0.7138 - val_categorical_accuracy: 0.5417 - lr: 0.0010\n",
      "Epoch 15/30\n",
      "17/17 [==============================] - ETA: 0s - loss: 0.0274 - categorical_accuracy: 0.9723\n",
      "Epoch 00015: saving model to model_init_2022-06-1501_54_49.039378/model-00015-0.02738-0.97230-0.69261-0.58333.h5\n",
      "17/17 [==============================] - 64s 4s/step - loss: 0.0274 - categorical_accuracy: 0.9723 - val_loss: 0.6926 - val_categorical_accuracy: 0.5833 - lr: 0.0010\n",
      "Epoch 16/30\n",
      "17/17 [==============================] - ETA: 0s - loss: 0.0304 - categorical_accuracy: 0.9679\n",
      "Epoch 00016: saving model to model_init_2022-06-1501_54_49.039378/model-00016-0.03039-0.96793-0.71460-0.57500.h5\n",
      "17/17 [==============================] - 63s 4s/step - loss: 0.0304 - categorical_accuracy: 0.9679 - val_loss: 0.7146 - val_categorical_accuracy: 0.5750 - lr: 0.0010\n",
      "Epoch 17/30\n",
      "17/17 [==============================] - ETA: 0s - loss: 0.0283 - categorical_accuracy: 0.9694\n",
      "Epoch 00017: saving model to model_init_2022-06-1501_54_49.039378/model-00017-0.02827-0.96939-0.73672-0.57500.h5\n",
      "17/17 [==============================] - 65s 4s/step - loss: 0.0283 - categorical_accuracy: 0.9694 - val_loss: 0.7367 - val_categorical_accuracy: 0.5750 - lr: 0.0010\n",
      "Epoch 18/30\n",
      "17/17 [==============================] - ETA: 0s - loss: 0.0258 - categorical_accuracy: 0.9665\n",
      "Epoch 00018: saving model to model_init_2022-06-1501_54_49.039378/model-00018-0.02584-0.96647-0.82473-0.51667.h5\n",
      "17/17 [==============================] - 62s 4s/step - loss: 0.0258 - categorical_accuracy: 0.9665 - val_loss: 0.8247 - val_categorical_accuracy: 0.5167 - lr: 0.0010\n",
      "Epoch 19/30\n",
      "17/17 [==============================] - ETA: 0s - loss: 0.0275 - categorical_accuracy: 0.9679\n",
      "Epoch 00019: saving model to model_init_2022-06-1501_54_49.039378/model-00019-0.02754-0.96793-0.59734-0.65000.h5\n",
      "17/17 [==============================] - 63s 4s/step - loss: 0.0275 - categorical_accuracy: 0.9679 - val_loss: 0.5973 - val_categorical_accuracy: 0.6500 - lr: 0.0010\n",
      "Epoch 20/30\n",
      "17/17 [==============================] - ETA: 0s - loss: 0.0310 - categorical_accuracy: 0.9679\n",
      "Epoch 00020: saving model to model_init_2022-06-1501_54_49.039378/model-00020-0.03095-0.96793-0.68942-0.59167.h5\n",
      "17/17 [==============================] - 67s 4s/step - loss: 0.0310 - categorical_accuracy: 0.9679 - val_loss: 0.6894 - val_categorical_accuracy: 0.5917 - lr: 0.0010\n",
      "Epoch 21/30\n",
      "17/17 [==============================] - ETA: 0s - loss: 0.0283 - categorical_accuracy: 0.9694\n",
      "Epoch 00021: saving model to model_init_2022-06-1501_54_49.039378/model-00021-0.02834-0.96939-0.61758-0.63333.h5\n",
      "17/17 [==============================] - 64s 4s/step - loss: 0.0283 - categorical_accuracy: 0.9694 - val_loss: 0.6176 - val_categorical_accuracy: 0.6333 - lr: 0.0010\n",
      "Epoch 22/30\n",
      "17/17 [==============================] - ETA: 0s - loss: 0.0348 - categorical_accuracy: 0.9636\n",
      "Epoch 00022: saving model to model_init_2022-06-1501_54_49.039378/model-00022-0.03476-0.96356-0.69758-0.61667.h5\n",
      "17/17 [==============================] - 63s 4s/step - loss: 0.0348 - categorical_accuracy: 0.9636 - val_loss: 0.6976 - val_categorical_accuracy: 0.6167 - lr: 0.0010\n",
      "Epoch 23/30\n",
      "17/17 [==============================] - ETA: 0s - loss: 0.0330 - categorical_accuracy: 0.9694\n",
      "Epoch 00023: saving model to model_init_2022-06-1501_54_49.039378/model-00023-0.03300-0.96939-0.72251-0.57500.h5\n",
      "\n",
      "Epoch 00023: ReduceLROnPlateau reducing learning rate to 0.00020000000949949026.\n",
      "17/17 [==============================] - 62s 4s/step - loss: 0.0330 - categorical_accuracy: 0.9694 - val_loss: 0.7225 - val_categorical_accuracy: 0.5750 - lr: 0.0010\n",
      "Epoch 24/30\n",
      "17/17 [==============================] - ETA: 0s - loss: 0.0283 - categorical_accuracy: 0.9621\n",
      "Epoch 00024: saving model to model_init_2022-06-1501_54_49.039378/model-00024-0.02828-0.96210-0.73766-0.58333.h5\n",
      "17/17 [==============================] - 64s 4s/step - loss: 0.0283 - categorical_accuracy: 0.9621 - val_loss: 0.7377 - val_categorical_accuracy: 0.5833 - lr: 2.0000e-04\n",
      "Epoch 25/30\n",
      "17/17 [==============================] - ETA: 0s - loss: 0.0301 - categorical_accuracy: 0.9621\n",
      "Epoch 00025: saving model to model_init_2022-06-1501_54_49.039378/model-00025-0.03011-0.96210-0.72302-0.57500.h5\n",
      "17/17 [==============================] - 62s 4s/step - loss: 0.0301 - categorical_accuracy: 0.9621 - val_loss: 0.7230 - val_categorical_accuracy: 0.5750 - lr: 2.0000e-04\n",
      "Epoch 26/30\n",
      "17/17 [==============================] - ETA: 0s - loss: 0.0168 - categorical_accuracy: 0.9694\n",
      "Epoch 00026: saving model to model_init_2022-06-1501_54_49.039378/model-00026-0.01684-0.96939-0.71965-0.59167.h5\n",
      "17/17 [==============================] - 63s 4s/step - loss: 0.0168 - categorical_accuracy: 0.9694 - val_loss: 0.7196 - val_categorical_accuracy: 0.5917 - lr: 2.0000e-04\n",
      "Epoch 27/30\n",
      "17/17 [==============================] - ETA: 0s - loss: 0.0213 - categorical_accuracy: 0.9767\n",
      "Epoch 00027: saving model to model_init_2022-06-1501_54_49.039378/model-00027-0.02131-0.97668-0.77779-0.58333.h5\n",
      "\n",
      "Epoch 00027: ReduceLROnPlateau reducing learning rate to 4.0000001899898055e-05.\n",
      "17/17 [==============================] - 64s 4s/step - loss: 0.0213 - categorical_accuracy: 0.9767 - val_loss: 0.7778 - val_categorical_accuracy: 0.5833 - lr: 2.0000e-04\n",
      "Epoch 28/30\n",
      "17/17 [==============================] - ETA: 0s - loss: 0.0250 - categorical_accuracy: 0.9665\n",
      "Epoch 00028: saving model to model_init_2022-06-1501_54_49.039378/model-00028-0.02502-0.96647-0.70066-0.63333.h5\n",
      "17/17 [==============================] - 62s 4s/step - loss: 0.0250 - categorical_accuracy: 0.9665 - val_loss: 0.7007 - val_categorical_accuracy: 0.6333 - lr: 4.0000e-05\n",
      "Epoch 29/30\n",
      "17/17 [==============================] - ETA: 0s - loss: 0.0244 - categorical_accuracy: 0.9723\n",
      "Epoch 00029: saving model to model_init_2022-06-1501_54_49.039378/model-00029-0.02442-0.97230-0.72720-0.61667.h5\n",
      "17/17 [==============================] - 62s 4s/step - loss: 0.0244 - categorical_accuracy: 0.9723 - val_loss: 0.7272 - val_categorical_accuracy: 0.6167 - lr: 4.0000e-05\n",
      "Epoch 00029: early stopping\n"
     ]
    }
   ],
   "source": [
    " history=model.fit(train_generator, steps_per_epoch=steps_per_epoch, epochs=num_epochs, verbose=1, \n",
    "                    callbacks=callbacks_list, validation_data=val_generator, \n",
    "                    validation_steps=validation_steps, class_weight=None, workers=1, initial_epoch=0)"
   ]
  },
  {
   "cell_type": "code",
   "execution_count": 40,
   "metadata": {
    "id": "S6NiQhblAAP8"
   },
   "outputs": [
    {
     "data": {
      "image/png": "[encoded data removed]",
      "text/plain": [
       "<Figure size 1080x288 with 2 Axes>"
      ]
     },
     "metadata": {
      "needs_background": "light"
     },
     "output_type": "display_data"
    }
   ],
   "source": [
    "plot(history)"
   ]
  },
  {
   "cell_type": "markdown",
   "metadata": {},
   "source": [
    "### Model 8 Output says:\n",
    "- categorical_accuracy: 0.9723  \n",
    "- val_categorical_accuracy: 0.6167\n",
    "\n",
    "Model is still overfit."
   ]
  },
  {
   "cell_type": "markdown",
   "metadata": {
    "id": "Qn9Ry5xIAAP8"
   },
   "source": [
    "### 9th Model: VGG16 + GRU\n",
    "### here batch_size=40, No of epoch = 20"
   ]
  },
  {
   "cell_type": "code",
   "execution_count": 41,
   "metadata": {
    "id": "6XNfPIOzAAP8"
   },
   "outputs": [],
   "source": [
    " from keras.applications.vgg16 import VGG16\n",
    " VGG16_transfer = tf.keras.applications.vgg16.VGG16(weights='imagenet', include_top=False)\n",
    " model = Sequential()\n",
    " model.add(TimeDistributed(VGG16_transfer,input_shape=input_shape))\n",
    " for layer in model.layers:\n",
    "     layer.trainable = False\n",
    "\n",
    " model.add(TimeDistributed(BatchNormalization()))\n",
    " model.add(TimeDistributed(MaxPooling2D((2, 2))))\n",
    " model.add(TimeDistributed(Flatten()))\n",
    " model.add(GRU(128))\n",
    " model.add(BatchNormalization())\n",
    " model.add(Dropout(0.5))\n",
    " model.add(Dense(64,activation='relu'))\n",
    " model.add(Dropout(0.5))\n",
    "        \n",
    " model.add(Dense(5, activation='softmax'))"
   ]
  },
  {
   "cell_type": "code",
   "execution_count": 42,
   "metadata": {
    "id": "bv9hqhKGiTvU"
   },
   "outputs": [
    {
     "name": "stdout",
     "output_type": "stream",
     "text": [
      "Model: \"sequential_8\"\n",
      "_________________________________________________________________\n",
      " Layer (type)                Output Shape              Param #   \n",
      "=================================================================\n",
      " time_distributed_20 (TimeDi  (None, 16, 3, 3, 512)    14714688  \n",
      " stributed)                                                      \n",
      "                                                                 \n",
      " time_distributed_21 (TimeDi  (None, 16, 3, 3, 512)    2048      \n",
      " stributed)                                                      \n",
      "                                                                 \n",
      " time_distributed_22 (TimeDi  (None, 16, 1, 1, 512)    0         \n",
      " stributed)                                                      \n",
      "                                                                 \n",
      " time_distributed_23 (TimeDi  (None, 16, 512)          0         \n",
      " stributed)                                                      \n",
      "                                                                 \n",
      " gru_1 (GRU)                 (None, 128)               246528    \n",
      "                                                                 \n",
      " batch_normalization_26 (Bat  (None, 128)              512       \n",
      " chNormalization)                                                \n",
      "                                                                 \n",
      " dropout_16 (Dropout)        (None, 128)               0         \n",
      "                                                                 \n",
      " dense_16 (Dense)            (None, 64)                8256      \n",
      "                                                                 \n",
      " dropout_17 (Dropout)        (None, 64)                0         \n",
      "                                                                 \n",
      " dense_17 (Dense)            (None, 5)                 325       \n",
      "                                                                 \n",
      "=================================================================\n",
      "Total params: 14,972,357\n",
      "Trainable params: 256,389\n",
      "Non-trainable params: 14,715,968\n",
      "_________________________________________________________________\n",
      "None\n"
     ]
    }
   ],
   "source": [
    "num_epochs = 20              # choose the number of epochs\n",
    "\n",
    "model_name = 'model_init' + '_' + str(curr_dt_time).replace(' ','').replace(':','_') + '/'\n",
    "    \n",
    "if not os.path.exists(model_name):\n",
    "    os.mkdir(model_name)\n",
    "        \n",
    "filepath = model_name + 'model-{epoch:05d}-{loss:.5f}-{categorical_accuracy:.5f}-{val_loss:.5f}-{val_categorical_accuracy:.5f}.h5'\n",
    "\n",
    "checkpoint = ModelCheckpoint(filepath, monitor='val_loss', verbose=1, save_best_only=False, save_weights_only=False, mode='auto', save_freq='epoch')\n",
    "\n",
    "LR =ReduceLROnPlateau(monitor='val_loss', factor=0.2, verbose=1, patience=4) # write the REducelronplateau code here\n",
    "earlystop = EarlyStopping( monitor=\"val_loss\", min_delta=0,patience=10,verbose=1)\n",
    "callbacks_list = [checkpoint, LR, earlystop]\n",
    "\n",
    "optimiser =tf.keras.optimizers.Adam() #write your optimizer\n",
    "model.compile(optimizer=optimiser, loss='categorical_crossentropy', metrics=['categorical_accuracy'])\n",
    "print (model.summary()) "
   ]
  },
  {
   "cell_type": "code",
   "execution_count": 43,
   "metadata": {
    "id": "z5iRPsKoAAP9"
   },
   "outputs": [
    {
     "name": "stdout",
     "output_type": "stream",
     "text": [
      "Epoch 1/20\n",
      "17/17 [==============================] - ETA: 0s - loss: 2.7016 - categorical_accuracy: 0.2332\n",
      "Epoch 00001: saving model to model_init_2022-06-1501_54_49.039378/model-00001-2.70155-0.23324-1.27464-0.31667.h5\n",
      "17/17 [==============================] - 75s 5s/step - loss: 2.7016 - categorical_accuracy: 0.2332 - val_loss: 1.2746 - val_categorical_accuracy: 0.3167 - lr: 0.0010\n",
      "Epoch 2/20\n",
      "17/17 [==============================] - ETA: 0s - loss: 1.9115 - categorical_accuracy: 0.3746\n",
      "Epoch 00002: saving model to model_init_2022-06-1501_54_49.039378/model-00002-1.91155-0.37464-1.10274-0.37500.h5\n",
      "17/17 [==============================] - 63s 4s/step - loss: 1.9115 - categorical_accuracy: 0.3746 - val_loss: 1.1027 - val_categorical_accuracy: 0.3750 - lr: 0.0010\n",
      "Epoch 3/20\n",
      "17/17 [==============================] - ETA: 0s - loss: 1.5369 - categorical_accuracy: 0.4388\n",
      "Epoch 00003: saving model to model_init_2022-06-1501_54_49.039378/model-00003-1.53692-0.43878-1.04173-0.44167.h5\n",
      "17/17 [==============================] - 66s 4s/step - loss: 1.5369 - categorical_accuracy: 0.4388 - val_loss: 1.0417 - val_categorical_accuracy: 0.4417 - lr: 0.0010\n",
      "Epoch 4/20\n",
      "17/17 [==============================] - ETA: 0s - loss: 1.2774 - categorical_accuracy: 0.5102\n",
      "Epoch 00004: saving model to model_init_2022-06-1501_54_49.039378/model-00004-1.27736-0.51020-0.97600-0.45000.h5\n",
      "17/17 [==============================] - 66s 4s/step - loss: 1.2774 - categorical_accuracy: 0.5102 - val_loss: 0.9760 - val_categorical_accuracy: 0.4500 - lr: 0.0010\n",
      "Epoch 5/20\n",
      "17/17 [==============================] - ETA: 0s - loss: 1.1950 - categorical_accuracy: 0.5641\n",
      "Epoch 00005: saving model to model_init_2022-06-1501_54_49.039378/model-00005-1.19497-0.56414-0.90597-0.50000.h5\n",
      "17/17 [==============================] - 67s 4s/step - loss: 1.1950 - categorical_accuracy: 0.5641 - val_loss: 0.9060 - val_categorical_accuracy: 0.5000 - lr: 0.0010\n",
      "Epoch 6/20\n",
      "17/17 [==============================] - ETA: 0s - loss: 1.0053 - categorical_accuracy: 0.5889\n",
      "Epoch 00006: saving model to model_init_2022-06-1501_54_49.039378/model-00006-1.00530-0.58892-0.92575-0.46667.h5\n",
      "17/17 [==============================] - 65s 4s/step - loss: 1.0053 - categorical_accuracy: 0.5889 - val_loss: 0.9257 - val_categorical_accuracy: 0.4667 - lr: 0.0010\n",
      "Epoch 7/20\n",
      "17/17 [==============================] - ETA: 0s - loss: 0.8202 - categorical_accuracy: 0.6676\n",
      "Epoch 00007: saving model to model_init_2022-06-1501_54_49.039378/model-00007-0.82024-0.66764-0.88427-0.50000.h5\n",
      "17/17 [==============================] - 65s 4s/step - loss: 0.8202 - categorical_accuracy: 0.6676 - val_loss: 0.8843 - val_categorical_accuracy: 0.5000 - lr: 0.0010\n",
      "Epoch 8/20\n",
      "17/17 [==============================] - ETA: 0s - loss: 0.8120 - categorical_accuracy: 0.6676\n",
      "Epoch 00008: saving model to model_init_2022-06-1501_54_49.039378/model-00008-0.81203-0.66764-0.81516-0.51667.h5\n",
      "17/17 [==============================] - 66s 4s/step - loss: 0.8120 - categorical_accuracy: 0.6676 - val_loss: 0.8152 - val_categorical_accuracy: 0.5167 - lr: 0.0010\n",
      "Epoch 9/20\n",
      "17/17 [==============================] - ETA: 0s - loss: 0.6789 - categorical_accuracy: 0.7187\n",
      "Epoch 00009: saving model to model_init_2022-06-1501_54_49.039378/model-00009-0.67889-0.71866-0.79010-0.51667.h5\n",
      "17/17 [==============================] - 67s 4s/step - loss: 0.6789 - categorical_accuracy: 0.7187 - val_loss: 0.7901 - val_categorical_accuracy: 0.5167 - lr: 0.0010\n",
      "Epoch 10/20\n",
      "17/17 [==============================] - ETA: 0s - loss: 0.5456 - categorical_accuracy: 0.7974\n",
      "Epoch 00010: saving model to model_init_2022-06-1501_54_49.039378/model-00010-0.54562-0.79738-0.73449-0.53333.h5\n",
      "17/17 [==============================] - 66s 4s/step - loss: 0.5456 - categorical_accuracy: 0.7974 - val_loss: 0.7345 - val_categorical_accuracy: 0.5333 - lr: 0.0010\n",
      "Epoch 11/20\n",
      "17/17 [==============================] - ETA: 0s - loss: 0.5642 - categorical_accuracy: 0.7843\n",
      "Epoch 00011: saving model to model_init_2022-06-1501_54_49.039378/model-00011-0.56418-0.78426-0.67410-0.60000.h5\n",
      "17/17 [==============================] - 64s 4s/step - loss: 0.5642 - categorical_accuracy: 0.7843 - val_loss: 0.6741 - val_categorical_accuracy: 0.6000 - lr: 0.0010\n",
      "Epoch 12/20\n",
      "17/17 [==============================] - ETA: 0s - loss: 0.4796 - categorical_accuracy: 0.7930\n",
      "Epoch 00012: saving model to model_init_2022-06-1501_54_49.039378/model-00012-0.47962-0.79300-0.74515-0.73333.h5\n",
      "17/17 [==============================] - 65s 4s/step - loss: 0.4796 - categorical_accuracy: 0.7930 - val_loss: 0.7452 - val_categorical_accuracy: 0.7333 - lr: 0.0010\n",
      "Epoch 13/20\n",
      "17/17 [==============================] - ETA: 0s - loss: 0.4657 - categorical_accuracy: 0.8149\n",
      "Epoch 00013: saving model to model_init_2022-06-1501_54_49.039378/model-00013-0.46575-0.81487-0.80511-0.52500.h5\n",
      "17/17 [==============================] - 66s 4s/step - loss: 0.4657 - categorical_accuracy: 0.8149 - val_loss: 0.8051 - val_categorical_accuracy: 0.5250 - lr: 0.0010\n",
      "Epoch 14/20\n",
      "17/17 [==============================] - ETA: 0s - loss: 0.3771 - categorical_accuracy: 0.8484\n",
      "Epoch 00014: saving model to model_init_2022-06-1501_54_49.039378/model-00014-0.37707-0.84840-0.65486-0.58333.h5\n",
      "17/17 [==============================] - 66s 4s/step - loss: 0.3771 - categorical_accuracy: 0.8484 - val_loss: 0.6549 - val_categorical_accuracy: 0.5833 - lr: 0.0010\n",
      "Epoch 15/20\n",
      "17/17 [==============================] - ETA: 0s - loss: 0.3175 - categorical_accuracy: 0.8455\n",
      "Epoch 00015: saving model to model_init_2022-06-1501_54_49.039378/model-00015-0.31750-0.84548-0.73185-0.55000.h5\n",
      "17/17 [==============================] - 66s 4s/step - loss: 0.3175 - categorical_accuracy: 0.8455 - val_loss: 0.7318 - val_categorical_accuracy: 0.5500 - lr: 0.0010\n",
      "Epoch 16/20\n",
      "17/17 [==============================] - ETA: 0s - loss: 0.2953 - categorical_accuracy: 0.8717\n",
      "Epoch 00016: saving model to model_init_2022-06-1501_54_49.039378/model-00016-0.29527-0.87172-0.86902-0.70000.h5\n",
      "17/17 [==============================] - 66s 4s/step - loss: 0.2953 - categorical_accuracy: 0.8717 - val_loss: 0.8690 - val_categorical_accuracy: 0.7000 - lr: 0.0010\n",
      "Epoch 17/20\n",
      "17/17 [==============================] - ETA: 0s - loss: 0.2724 - categorical_accuracy: 0.8863\n",
      "Epoch 00017: saving model to model_init_2022-06-1501_54_49.039378/model-00017-0.27243-0.88630-0.78124-0.53333.h5\n",
      "17/17 [==============================] - 64s 4s/step - loss: 0.2724 - categorical_accuracy: 0.8863 - val_loss: 0.7812 - val_categorical_accuracy: 0.5333 - lr: 0.0010\n",
      "Epoch 18/20\n",
      "17/17 [==============================] - ETA: 0s - loss: 0.2510 - categorical_accuracy: 0.8834\n",
      "Epoch 00018: saving model to model_init_2022-06-1501_54_49.039378/model-00018-0.25098-0.88338-0.76760-0.55833.h5\n",
      "\n",
      "Epoch 00018: ReduceLROnPlateau reducing learning rate to 0.00020000000949949026.\n",
      "17/17 [==============================] - 67s 4s/step - loss: 0.2510 - categorical_accuracy: 0.8834 - val_loss: 0.7676 - val_categorical_accuracy: 0.5583 - lr: 0.0010\n",
      "Epoch 19/20\n",
      "17/17 [==============================] - ETA: 0s - loss: 0.2057 - categorical_accuracy: 0.9052\n",
      "Epoch 00019: saving model to model_init_2022-06-1501_54_49.039378/model-00019-0.20566-0.90525-0.86523-0.55000.h5\n",
      "17/17 [==============================] - 68s 4s/step - loss: 0.2057 - categorical_accuracy: 0.9052 - val_loss: 0.8652 - val_categorical_accuracy: 0.5500 - lr: 2.0000e-04\n",
      "Epoch 20/20\n",
      "17/17 [==============================] - ETA: 0s - loss: 0.2573 - categorical_accuracy: 0.8921\n",
      "Epoch 00020: saving model to model_init_2022-06-1501_54_49.039378/model-00020-0.25726-0.89213-0.81750-0.54167.h5\n",
      "17/17 [==============================] - 64s 4s/step - loss: 0.2573 - categorical_accuracy: 0.8921 - val_loss: 0.8175 - val_categorical_accuracy: 0.5417 - lr: 2.0000e-04\n"
     ]
    }
   ],
   "source": [
    "history=model.fit(train_generator, steps_per_epoch=steps_per_epoch, epochs=num_epochs, verbose=1, \n",
    "                     callbacks=callbacks_list, validation_data=val_generator, \n",
    "                     validation_steps=validation_steps, class_weight=None, workers=1, initial_epoch=0)"
   ]
  },
  {
   "cell_type": "code",
   "execution_count": 44,
   "metadata": {
    "id": "aPlSjDDYAAP9"
   },
   "outputs": [
    {
     "data": {
      "image/png": "[encoded data removed]",
      "text/plain": [
       "<Figure size 1080x288 with 2 Axes>"
      ]
     },
     "metadata": {
      "needs_background": "light"
     },
     "output_type": "display_data"
    }
   ],
   "source": [
    " plot(history)"
   ]
  },
  {
   "cell_type": "markdown",
   "metadata": {},
   "source": [
    "### Model 9 Output says:\n",
    "- categorical_accuracy: 0.8921  \n",
    "- val_categorical_accuracy: 0.5417\n",
    "\n",
    "Model is overfit."
   ]
  },
  {
   "cell_type": "markdown",
   "metadata": {
    "id": "IGIS5BWKAAP9"
   },
   "source": [
    "## 10th Model: TransferLearning(Mobilenet) + GRU\n",
    "### here batch size = 40, No of epoch = 15"
   ]
  },
  {
   "cell_type": "code",
   "execution_count": 13,
   "metadata": {
    "id": "K26tmkGuAAP-"
   },
   "outputs": [
    {
     "name": "stdout",
     "output_type": "stream",
     "text": [
      "WARNING:tensorflow:`input_shape` is undefined or non-square, or `rows` is not in [128, 160, 192, 224]. Weights for input shape (224, 224) will be loaded as the default.\n",
      "Downloading data from https://storage.googleapis.com/tensorflow/keras-applications/mobilenet/mobilenet_1_0_224_tf_no_top.h5\n",
      "17227776/17225924 [==============================] - 1s 0us/step\n",
      "17235968/17225924 [==============================] - 1s 0us/step\n"
     ]
    }
   ],
   "source": [
    "from keras.applications import mobilenet\n",
    "\n",
    "mobilenet_transfer = mobilenet.MobileNet(weights='imagenet', include_top=False)\n",
    "\n",
    "model = Sequential()\n",
    "model.add(TimeDistributed(mobilenet_transfer,input_shape=input_shape))\n",
    " \n",
    "model.add(TimeDistributed(BatchNormalization()))\n",
    "model.add(TimeDistributed(MaxPooling2D((2, 2))))\n",
    "model.add(TimeDistributed(Flatten()))\n",
    "\n",
    "model.add(GRU(128))\n",
    "model.add(Dropout(0.25))\n",
    "        \n",
    "model.add(Dense(128,activation='relu'))\n",
    "model.add(Dropout(0.25))\n",
    "        \n",
    "model.add(Dense(5, activation='softmax'))"
   ]
  },
  {
   "cell_type": "code",
   "execution_count": 14,
   "metadata": {
    "id": "aq0Rs5vhAAP-"
   },
   "outputs": [
    {
     "name": "stdout",
     "output_type": "stream",
     "text": [
      "Model: \"sequential_1\"\n",
      "_________________________________________________________________\n",
      " Layer (type)                Output Shape              Param #   \n",
      "=================================================================\n",
      " time_distributed (TimeDistr  (None, 16, 3, 3, 1024)   3228864   \n",
      " ibuted)                                                         \n",
      "                                                                 \n",
      " time_distributed_1 (TimeDis  (None, 16, 3, 3, 1024)   4096      \n",
      " tributed)                                                       \n",
      "                                                                 \n",
      " time_distributed_2 (TimeDis  (None, 16, 1, 1, 1024)   0         \n",
      " tributed)                                                       \n",
      "                                                                 \n",
      " time_distributed_3 (TimeDis  (None, 16, 1024)         0         \n",
      " tributed)                                                       \n",
      "                                                                 \n",
      " gru (GRU)                   (None, 128)               443136    \n",
      "                                                                 \n",
      " dropout (Dropout)           (None, 128)               0         \n",
      "                                                                 \n",
      " dense_2 (Dense)             (None, 128)               16512     \n",
      "                                                                 \n",
      " dropout_1 (Dropout)         (None, 128)               0         \n",
      "                                                                 \n",
      " dense_3 (Dense)             (None, 5)                 645       \n",
      "                                                                 \n",
      "=================================================================\n",
      "Total params: 3,693,253\n",
      "Trainable params: 3,669,317\n",
      "Non-trainable params: 23,936\n",
      "_________________________________________________________________\n",
      "None\n"
     ]
    }
   ],
   "source": [
    "num_epochs = 15              # choose the number of epochs\n",
    "\n",
    "model_name = 'model_init' + '_' + str(curr_dt_time).replace(' ','').replace(':','_') + '/'\n",
    "    \n",
    "if not os.path.exists(model_name):\n",
    "    os.mkdir(model_name)\n",
    "        \n",
    "filepath = model_name + 'model-{epoch:05d}-{loss:.5f}-{categorical_accuracy:.5f}-{val_loss:.5f}-{val_categorical_accuracy:.5f}.h5'\n",
    "\n",
    "checkpoint = ModelCheckpoint(filepath, monitor='val_loss', verbose=1, save_best_only=True, save_weights_only=False, mode='auto', save_freq='epoch')\n",
    "\n",
    "LR =ReduceLROnPlateau(monitor='val_loss', factor=0.2, verbose=1, patience=4) # write the REducelronplateau code here\n",
    "earlystop = EarlyStopping( monitor=\"val_loss\", min_delta=0,patience=10,verbose=1)\n",
    "callbacks_list = [checkpoint, LR, earlystop]\n",
    "\n",
    "optimiser =tf.keras.optimizers.Adam() #write your optimizer\n",
    "model.compile(optimizer=optimiser, loss='categorical_crossentropy', metrics=['categorical_accuracy'])\n",
    "print (model.summary())"
   ]
  },
  {
   "cell_type": "code",
   "execution_count": 15,
   "metadata": {
    "id": "SiUAAV1NAAQA"
   },
   "outputs": [
    {
     "name": "stdout",
     "output_type": "stream",
     "text": [
      "Source path =  /datasets/Project_data/train ; batch size = 40\n",
      "Epoch 1/15\n"
     ]
    },
    {
     "name": "stderr",
     "output_type": "stream",
     "text": [
      "2022-06-15 06:38:23.297486: I tensorflow/stream_executor/cuda/cuda_dnn.cc:377] Loaded cuDNN version 8302\n"
     ]
    },
    {
     "name": "stdout",
     "output_type": "stream",
     "text": [
      "17/17 [==============================] - ETA: 0s - loss: 1.1677 - categorical_accuracy: 0.5306Source path =  /datasets/Project_data/val ; batch size = 40\n",
      "\n",
      "Epoch 00001: val_loss improved from inf to 0.91708, saving model to model_init_2022-06-1506_36_52.625838/model-00001-1.16773-0.53061-0.91708-0.45000.h5\n",
      "17/17 [==============================] - 72s 4s/step - loss: 1.1677 - categorical_accuracy: 0.5306 - val_loss: 0.9171 - val_categorical_accuracy: 0.4500 - lr: 0.0010\n",
      "Epoch 2/15\n",
      "17/17 [==============================] - ETA: 0s - loss: 0.3747 - categorical_accuracy: 0.8397\n",
      "Epoch 00002: val_loss improved from 0.91708 to 0.62535, saving model to model_init_2022-06-1506_36_52.625838/model-00002-0.37472-0.83965-0.62535-0.52500.h5\n",
      "17/17 [==============================] - 66s 4s/step - loss: 0.3747 - categorical_accuracy: 0.8397 - val_loss: 0.6253 - val_categorical_accuracy: 0.5250 - lr: 0.0010\n",
      "Epoch 3/15\n",
      "17/17 [==============================] - ETA: 0s - loss: 0.1750 - categorical_accuracy: 0.9111\n",
      "Epoch 00003: val_loss improved from 0.62535 to 0.41478, saving model to model_init_2022-06-1506_36_52.625838/model-00003-0.17496-0.91108-0.41478-0.81667.h5\n",
      "17/17 [==============================] - 63s 4s/step - loss: 0.1750 - categorical_accuracy: 0.9111 - val_loss: 0.4148 - val_categorical_accuracy: 0.8167 - lr: 0.0010\n",
      "Epoch 4/15\n",
      "17/17 [==============================] - ETA: 0s - loss: 0.0835 - categorical_accuracy: 0.9621\n",
      "Epoch 00004: val_loss improved from 0.41478 to 0.23904, saving model to model_init_2022-06-1506_36_52.625838/model-00004-0.08353-0.96210-0.23904-0.90833.h5\n",
      "17/17 [==============================] - 65s 4s/step - loss: 0.0835 - categorical_accuracy: 0.9621 - val_loss: 0.2390 - val_categorical_accuracy: 0.9083 - lr: 0.0010\n",
      "Epoch 5/15\n",
      "17/17 [==============================] - ETA: 0s - loss: 0.0311 - categorical_accuracy: 0.9621\n",
      "Epoch 00005: val_loss improved from 0.23904 to 0.23182, saving model to model_init_2022-06-1506_36_52.625838/model-00005-0.03111-0.96210-0.23182-0.74167.h5\n",
      "17/17 [==============================] - 64s 4s/step - loss: 0.0311 - categorical_accuracy: 0.9621 - val_loss: 0.2318 - val_categorical_accuracy: 0.7417 - lr: 0.0010\n",
      "Epoch 6/15\n",
      "17/17 [==============================] - ETA: 0s - loss: 0.0300 - categorical_accuracy: 0.9665\n",
      "Epoch 00006: val_loss did not improve from 0.23182\n",
      "17/17 [==============================] - 63s 4s/step - loss: 0.0300 - categorical_accuracy: 0.9665 - val_loss: 0.2888 - val_categorical_accuracy: 0.7500 - lr: 0.0010\n",
      "Epoch 7/15\n",
      "17/17 [==============================] - ETA: 0s - loss: 0.0186 - categorical_accuracy: 0.9723\n",
      "Epoch 00007: val_loss improved from 0.23182 to 0.19511, saving model to model_init_2022-06-1506_36_52.625838/model-00007-0.01857-0.97230-0.19511-0.92500.h5\n",
      "17/17 [==============================] - 65s 4s/step - loss: 0.0186 - categorical_accuracy: 0.9723 - val_loss: 0.1951 - val_categorical_accuracy: 0.9250 - lr: 0.0010\n",
      "Epoch 8/15\n",
      "17/17 [==============================] - ETA: 0s - loss: 0.0104 - categorical_accuracy: 0.9708\n",
      "Epoch 00008: val_loss improved from 0.19511 to 0.17887, saving model to model_init_2022-06-1506_36_52.625838/model-00008-0.01039-0.97085-0.17887-0.95000.h5\n",
      "17/17 [==============================] - 65s 4s/step - loss: 0.0104 - categorical_accuracy: 0.9708 - val_loss: 0.1789 - val_categorical_accuracy: 0.9500 - lr: 0.0010\n",
      "Epoch 9/15\n",
      "17/17 [==============================] - ETA: 0s - loss: 0.0042 - categorical_accuracy: 0.9825\n",
      "Epoch 00009: val_loss improved from 0.17887 to 0.11131, saving model to model_init_2022-06-1506_36_52.625838/model-00009-0.00417-0.98251-0.11131-0.95000.h5\n",
      "17/17 [==============================] - 64s 4s/step - loss: 0.0042 - categorical_accuracy: 0.9825 - val_loss: 0.1113 - val_categorical_accuracy: 0.9500 - lr: 0.0010\n",
      "Epoch 10/15\n",
      "17/17 [==============================] - ETA: 0s - loss: 0.0099 - categorical_accuracy: 0.9694\n",
      "Epoch 00010: val_loss did not improve from 0.11131\n",
      "17/17 [==============================] - 64s 4s/step - loss: 0.0099 - categorical_accuracy: 0.9694 - val_loss: 0.1191 - val_categorical_accuracy: 0.7667 - lr: 0.0010\n",
      "Epoch 11/15\n",
      "17/17 [==============================] - ETA: 0s - loss: 0.0176 - categorical_accuracy: 0.9752\n",
      "Epoch 00011: val_loss did not improve from 0.11131\n",
      "17/17 [==============================] - 63s 4s/step - loss: 0.0176 - categorical_accuracy: 0.9752 - val_loss: 0.6116 - val_categorical_accuracy: 0.8750 - lr: 0.0010\n",
      "Epoch 12/15\n",
      "17/17 [==============================] - ETA: 0s - loss: 0.0439 - categorical_accuracy: 0.9548\n",
      "Epoch 00012: val_loss did not improve from 0.11131\n",
      "17/17 [==============================] - 63s 4s/step - loss: 0.0439 - categorical_accuracy: 0.9548 - val_loss: 0.2752 - val_categorical_accuracy: 0.9333 - lr: 0.0010\n",
      "Epoch 13/15\n",
      "17/17 [==============================] - ETA: 0s - loss: 0.0188 - categorical_accuracy: 0.9796\n",
      "Epoch 00013: val_loss did not improve from 0.11131\n",
      "\n",
      "Epoch 00013: ReduceLROnPlateau reducing learning rate to 0.00020000000949949026.\n",
      "17/17 [==============================] - 64s 4s/step - loss: 0.0188 - categorical_accuracy: 0.9796 - val_loss: 0.2640 - val_categorical_accuracy: 0.9333 - lr: 0.0010\n",
      "Epoch 14/15\n",
      "17/17 [==============================] - ETA: 0s - loss: 0.0305 - categorical_accuracy: 0.9650\n",
      "Epoch 00014: val_loss did not improve from 0.11131\n",
      "17/17 [==============================] - 65s 4s/step - loss: 0.0305 - categorical_accuracy: 0.9650 - val_loss: 0.1798 - val_categorical_accuracy: 0.9417 - lr: 2.0000e-04\n",
      "Epoch 15/15\n",
      "17/17 [==============================] - ETA: 0s - loss: 0.0118 - categorical_accuracy: 0.9694\n",
      "Epoch 00015: val_loss did not improve from 0.11131\n",
      "17/17 [==============================] - 62s 4s/step - loss: 0.0118 - categorical_accuracy: 0.9694 - val_loss: 0.2498 - val_categorical_accuracy: 0.9333 - lr: 2.0000e-04\n"
     ]
    }
   ],
   "source": [
    "history=model.fit(train_generator, steps_per_epoch=steps_per_epoch, epochs=num_epochs, verbose=1, \n",
    "                    callbacks=callbacks_list, validation_data=val_generator, \n",
    "                    validation_steps=validation_steps, class_weight=None, workers=1, initial_epoch=0)"
   ]
  },
  {
   "cell_type": "markdown",
   "metadata": {
    "id": "FSHw6cyqAAQA"
   },
   "source": [
    "### View Result"
   ]
  },
  {
   "cell_type": "code",
   "execution_count": 16,
   "metadata": {
    "id": "xj0aqS7iAAQA"
   },
   "outputs": [
    {
     "data": {
      "image/png": "[encoded data removed]",
      "text/plain": [
       "<Figure size 1080x288 with 2 Axes>"
      ]
     },
     "metadata": {
      "needs_background": "light"
     },
     "output_type": "display_data"
    }
   ],
   "source": [
    "plot(history)"
   ]
  },
  {
   "cell_type": "markdown",
   "metadata": {
    "id": "w3Xy7Pj0AAQB"
   },
   "source": [
    "### Conclusion:"
   ]
  },
  {
   "cell_type": "markdown",
   "metadata": {
    "id": "e_yJBFieAAQB"
   },
   "source": [
    "### Model 10 Output says:\n",
    "- categorical_accuracy: 0.9694  \n",
    "- val_categorical_accuracy: 0.9333\n",
    "\n",
    "Model is robust.\n",
    "With different learning method, change in different no of epoch and training parameters from that Model 10 (Mobilenet + GRU) gave best accuracy when compared to all above models.\n"
   ]
  }
 ],
 "metadata": {
  "accelerator": "GPU",
  "colab": {
   "name": "Gesture_Recognition_Durgesh_Chaubey (1).ipynb",
   "provenance": [],
   "toc_visible": true
  },
  "gpuClass": "standard",
  "kernelspec": {
   "display_name": "Python 3",
   "language": "python",
   "name": "python3"
  },
  "language_info": {
   "codemirror_mode": {
    "name": "ipython",
    "version": 3
   },
   "file_extension": ".py",
   "mimetype": "text/x-python",
   "name": "python",
   "nbconvert_exporter": "python",
   "pygments_lexer": "ipython3",
   "version": "3.8.8"
  }
 },
 "nbformat": 4,
 "nbformat_minor": 4
}
